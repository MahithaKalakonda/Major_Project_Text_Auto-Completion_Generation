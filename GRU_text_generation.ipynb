{
 "cells": [
  {
   "attachments": {},
   "cell_type": "markdown",
   "metadata": {},
   "source": [
    "# Import necessary modules"
   ]
  },
  {
   "cell_type": "code",
   "execution_count": 1,
   "metadata": {},
   "outputs": [],
   "source": [
    "import tensorflow as tf\n",
    "\n",
    "import numpy as np\n",
    "import os\n",
    "import time\n",
    "from tqdm import tqdm\n",
    "import ssl\n",
    "try:\n",
    "    _create_unverified_https_context = ssl._create_unverified_context\n",
    "except AttributeError:\n",
    "    pass\n",
    "else:\n",
    "    ssl._create_default_https_context = _create_unverified_https_context"
   ]
  },
  {
   "attachments": {},
   "cell_type": "markdown",
   "metadata": {},
   "source": [
    "# Load dataset"
   ]
  },
  {
   "cell_type": "code",
   "execution_count": 2,
   "metadata": {},
   "outputs": [],
   "source": [
    "path_to_file = \"text_generation.txt\""
   ]
  },
  {
   "attachments": {},
   "cell_type": "markdown",
   "metadata": {},
   "source": [
    "# Read the data"
   ]
  },
  {
   "cell_type": "code",
   "execution_count": 3,
   "metadata": {},
   "outputs": [
    {
     "name": "stdout",
     "output_type": "stream",
     "text": [
      "Length of text: 634622 characters\n"
     ]
    }
   ],
   "source": [
    "# Used for english processing\n",
    "# UTF8 Decoder is a variable-length character decoding that can make any Unicode character readable. \n",
    "# Each Unicode character is made readable using 1-4 bytes. UTF-8 is the most common Unicode decoding\n",
    "\n",
    "text = open(path_to_file, 'rb').read().decode(encoding='utf-8')\n",
    "print(f'Length of text: {len(text)} characters')"
   ]
  },
  {
   "cell_type": "code",
   "execution_count": 4,
   "metadata": {},
   "outputs": [],
   "source": [
    "# text_list = text.split(\"\\r\\n\\r\\n\\r\\n\")\n",
    "# print(len(text_list))\n",
    "# text_list[10]"
   ]
  },
  {
   "cell_type": "code",
   "execution_count": 103,
   "metadata": {},
   "outputs": [
    {
     "data": {
      "text/plain": [
       "'ger]\\r\\n\\r\\n\\r\\nLeave Denial Response:\\r\\n\\r\\nDear [Employee],\\r\\n\\r\\nThank you for your leave request. Unfortunately, after careful consideration, we are unable to approve your request for leave during the requested period.\\r\\n\\r\\nThis decision has been made due to [reason for denial]. We understand that this may cause some inconvenience, and we apologize for any disruption this may cause to your plans.\\r\\n\\r\\nPlease let us know if there are any alternative arrangements that could be made, or if there are any particular concerns or issues that you would like to discuss.\\r\\n\\r\\nThank you for your understanding and cooperation.\\r\\n\\r\\nBest regards,\\r\\n[Manager]\\r\\n\\r\\n\\r\\nLeave Extension Approval Response:\\r\\n\\r\\nDear [Employee],\\r\\n\\r\\nThank you for your request for an extension of your leave period from [leave start date] to [new leave end date]. After careful consideration, we are pleased to inform you that your request has been approved.\\r\\n\\r\\nPlease ensure that all necessary arrangements are made for the continuation of your absence, and that you complete any outstanding work before your leave extension begins.\\r\\n\\r\\nWe wish you a continued restful and enjoyable leave, and look forward to your return.\\r\\n\\r\\nBest regards,\\r\\n[Manager]'"
      ]
     },
     "execution_count": 103,
     "metadata": {},
     "output_type": "execute_result"
    }
   ],
   "source": [
    "text[-1200:]"
   ]
  },
  {
   "attachments": {},
   "cell_type": "markdown",
   "metadata": {},
   "source": [
    "# Data pre-processing"
   ]
  },
  {
   "cell_type": "code",
   "execution_count": 6,
   "metadata": {},
   "outputs": [
    {
     "name": "stdout",
     "output_type": "stream",
     "text": [
      "599940\n"
     ]
    },
    {
     "data": {
      "text/plain": [
       "' continued restful and enjoyable leave, and look forward to your return.\\r\\n\\r\\nBest regards,\\r\\n[Manager]'"
      ]
     },
     "execution_count": 6,
     "metadata": {},
     "output_type": "execute_result"
    }
   ],
   "source": [
    "text = text[:99991]\n",
    "text = text * 6\n",
    "text = text[:-6]\n",
    "print(len(text))\n",
    "\n",
    "text[-100:]"
   ]
  },
  {
   "cell_type": "code",
   "execution_count": 7,
   "metadata": {},
   "outputs": [
    {
     "name": "stdout",
     "output_type": "stream",
     "text": [
      "65 unique characters\n"
     ]
    }
   ],
   "source": [
    "vocab = sorted(set(text))\n",
    "print(f'{len(vocab)} unique characters')"
   ]
  },
  {
   "attachments": {},
   "cell_type": "markdown",
   "metadata": {},
   "source": [
    "# Tokanization"
   ]
  },
  {
   "cell_type": "code",
   "execution_count": 8,
   "metadata": {},
   "outputs": [],
   "source": [
    "ids_from_chars = tf.keras.layers.StringLookup(\n",
    "    vocabulary=list(vocab), mask_token=None)"
   ]
  },
  {
   "attachments": {},
   "cell_type": "markdown",
   "metadata": {},
   "source": [
    "# Vectorization\n",
    "convert each character into a numeric ID"
   ]
  },
  {
   "cell_type": "code",
   "execution_count": 9,
   "metadata": {},
   "outputs": [],
   "source": [
    "chars_from_ids = tf.keras.layers.StringLookup(\n",
    "    vocabulary=ids_from_chars.get_vocabulary(), invert=True, mask_token=None)"
   ]
  },
  {
   "attachments": {},
   "cell_type": "markdown",
   "metadata": {},
   "source": [
    "# joining\n",
    "tf.strings.reduce_join to join the characters back into strings."
   ]
  },
  {
   "cell_type": "code",
   "execution_count": 10,
   "metadata": {},
   "outputs": [],
   "source": [
    "def text_from_ids(ids):\n",
    "  return tf.strings.reduce_join(chars_from_ids(ids), axis=-1)"
   ]
  },
  {
   "attachments": {},
   "cell_type": "markdown",
   "metadata": {},
   "source": [
    " tf.data.Dataset.from_tensor_slices function to convert the text vector into a stream of character indices.\n"
   ]
  },
  {
   "cell_type": "code",
   "execution_count": 11,
   "metadata": {},
   "outputs": [
    {
     "data": {
      "text/plain": [
       "<tf.Tensor: shape=(599940,), dtype=int64, numpy=array([30, 43, 55, ..., 43, 56, 38], dtype=int64)>"
      ]
     },
     "execution_count": 11,
     "metadata": {},
     "output_type": "execute_result"
    }
   ],
   "source": [
    "all_ids = ids_from_chars(tf.strings.unicode_split(text, 'UTF-8'))\n",
    "all_ids"
   ]
  },
  {
   "cell_type": "code",
   "execution_count": 12,
   "metadata": {},
   "outputs": [
    {
     "data": {
      "text/plain": [
       "tensorflow.python.framework.ops.EagerTensor"
      ]
     },
     "execution_count": 12,
     "metadata": {},
     "output_type": "execute_result"
    }
   ],
   "source": [
    "type(all_ids)"
   ]
  },
  {
   "cell_type": "code",
   "execution_count": 13,
   "metadata": {},
   "outputs": [],
   "source": [
    "ids_dataset = tf.data.Dataset.from_tensor_slices(all_ids)"
   ]
  },
  {
   "cell_type": "code",
   "execution_count": 14,
   "metadata": {},
   "outputs": [
    {
     "name": "stdout",
     "output_type": "stream",
     "text": [
      "R tf.Tensor(30, shape=(), dtype=int64)\n",
      "e tf.Tensor(43, shape=(), dtype=int64)\n",
      "q tf.Tensor(55, shape=(), dtype=int64)\n",
      "u tf.Tensor(59, shape=(), dtype=int64)\n",
      "e tf.Tensor(43, shape=(), dtype=int64)\n",
      "s tf.Tensor(57, shape=(), dtype=int64)\n",
      "t tf.Tensor(58, shape=(), dtype=int64)\n",
      "  tf.Tensor(3, shape=(), dtype=int64)\n",
      "f tf.Tensor(44, shape=(), dtype=int64)\n",
      "o tf.Tensor(53, shape=(), dtype=int64)\n"
     ]
    }
   ],
   "source": [
    "for ids in ids_dataset.take(10):\n",
    "    print(chars_from_ids(ids).numpy().decode('utf-8'), ids)"
   ]
  },
  {
   "cell_type": "code",
   "execution_count": 15,
   "metadata": {},
   "outputs": [],
   "source": [
    "seq_length = 150"
   ]
  },
  {
   "attachments": {},
   "cell_type": "markdown",
   "metadata": {},
   "source": [
    "batch method converts these individual characters to sequences of the desired size."
   ]
  },
  {
   "cell_type": "code",
   "execution_count": 16,
   "metadata": {},
   "outputs": [
    {
     "name": "stdout",
     "output_type": "stream",
     "text": [
      "tf.Tensor(\n",
      "[b'R' b'e' b'q' b'u' b'e' b's' b't' b' ' b'f' b'o' b'r' b' ' b'M' b'a'\n",
      " b't' b'e' b'r' b'n' b'i' b't' b'y' b' ' b'L' b'e' b'a' b'v' b'e' b':'\n",
      " b'\\r' b'\\n' b'\\r' b'\\n' b'D' b'e' b'a' b'r' b' ' b'[' b'M' b'a' b'n' b'a'\n",
      " b'g' b'e' b'r' b\"'\" b's' b' ' b'N' b'a' b'm' b'e' b']' b',' b'\\r' b'\\n'\n",
      " b'\\r' b'\\n' b'I' b' ' b'a' b'm' b' ' b'w' b'r' b'i' b't' b'i' b'n' b'g'\n",
      " b' ' b't' b'o' b' ' b'i' b'n' b'f' b'o' b'r' b'm' b' ' b'y' b'o' b'u'\n",
      " b' ' b't' b'h' b'a' b't' b' ' b'I' b' ' b'w' b'i' b'l' b'l' b' ' b'b'\n",
      " b'e' b' ' b't' b'a' b'k' b'i' b'n' b'g' b' ' b'm' b'a' b't' b'e' b'r'\n",
      " b'n' b'i' b't' b'y' b' ' b'l' b'e' b'a' b'v' b'e' b' ' b's' b't' b'a'\n",
      " b'r' b't' b'i' b'n' b'g' b' ' b'f' b'r' b'o' b'm' b' ' b'[' b'S' b't'\n",
      " b'a' b'r' b't' b' ' b'D' b'a' b't' b'e' b']' b' ' b'u'], shape=(151,), dtype=string)\n"
     ]
    }
   ],
   "source": [
    "sequences = ids_dataset.batch(seq_length+1, drop_remainder=True, )\n",
    "\n",
    "for seq in sequences.take(1):\n",
    "  print(chars_from_ids(seq))"
   ]
  },
  {
   "cell_type": "code",
   "execution_count": 17,
   "metadata": {},
   "outputs": [
    {
     "data": {
      "text/plain": [
       "tensorflow.python.data.ops.dataset_ops.BatchDataset"
      ]
     },
     "execution_count": 17,
     "metadata": {},
     "output_type": "execute_result"
    }
   ],
   "source": [
    "type(sequences)"
   ]
  },
  {
   "cell_type": "code",
   "execution_count": 18,
   "metadata": {},
   "outputs": [
    {
     "name": "stdout",
     "output_type": "stream",
     "text": [
      "b\"Request for Maternity Leave:\\r\\n\\r\\nDear [Manager's Name],\\r\\n\\r\\nI am writing to inform you that I will be taking maternity leave starting from [Start Date] u\"\n",
      "b'ntil [End Date]. As per the company policy, I am entitled to [Duration of Leave] weeks of maternity leave.\\r\\n\\r\\nI have completed all my pending work and '\n",
      "b'have handed over my responsibilities to [Name of Colleague/Team Member]. I have also shared my contact details with them in case of any emergency.\\r\\n\\r\\nD'\n",
      "b'uring my absence, I can be reached via [Email/Phone Number] if there is any work-related emergency that requires my attention. Otherwise, I will be out'\n",
      "b' of office.\\r\\n\\r\\nThank you for your understanding and support during this time. I look forward to returning to work and continuing to contribute to the s'\n"
     ]
    }
   ],
   "source": [
    "for seq in sequences.take(5):\n",
    "  print(text_from_ids(seq).numpy())"
   ]
  },
  {
   "attachments": {},
   "cell_type": "markdown",
   "metadata": {},
   "source": [
    "For training need a dataset of (input, label) pairs. \n",
    "\n",
    "Where input and label are sequences. \n",
    "\n",
    "At each time step the input is the current character and the label is the next character."
   ]
  },
  {
   "cell_type": "code",
   "execution_count": 19,
   "metadata": {},
   "outputs": [],
   "source": [
    "def split_input_target(sequence):\n",
    "    input_text = sequence[:-1]\n",
    "    target_text = sequence[1:]\n",
    "    return input_text, target_text"
   ]
  },
  {
   "cell_type": "code",
   "execution_count": 20,
   "metadata": {},
   "outputs": [
    {
     "data": {
      "text/plain": [
       "<BatchDataset element_spec=TensorSpec(shape=(151,), dtype=tf.int64, name=None)>"
      ]
     },
     "execution_count": 20,
     "metadata": {},
     "output_type": "execute_result"
    }
   ],
   "source": [
    "sequences"
   ]
  },
  {
   "cell_type": "code",
   "execution_count": 21,
   "metadata": {},
   "outputs": [
    {
     "data": {
      "text/plain": [
       "<MapDataset element_spec=(TensorSpec(shape=(150,), dtype=tf.int64, name=None), TensorSpec(shape=(150,), dtype=tf.int64, name=None))>"
      ]
     },
     "execution_count": 21,
     "metadata": {},
     "output_type": "execute_result"
    }
   ],
   "source": [
    "dataset = sequences.map(split_input_target)\n",
    "\n",
    "dataset"
   ]
  },
  {
   "attachments": {},
   "cell_type": "markdown",
   "metadata": {},
   "source": [
    "########################################################################################"
   ]
  },
  {
   "cell_type": "code",
   "execution_count": 22,
   "metadata": {},
   "outputs": [],
   "source": [
    "# text_list = [op.replace(\"\\r\",\"\").replace(\"\\n\",\"\") for op in text_list]\n",
    "# text_list[0]"
   ]
  },
  {
   "cell_type": "code",
   "execution_count": 23,
   "metadata": {},
   "outputs": [],
   "source": [
    "# all_sequences = []\n",
    "# for text_line in tqdm(text_list):\n",
    "#     # print(text_line)\n",
    "#     for i in range(len(text_line)-seq_length):\n",
    "#         seq = text_line[i:i+seq_length+1]\n",
    "#         # print(seq, len(seq))\n",
    "#         all_sequences.append(seq)\n",
    "\n",
    "# print(len(text_list), len(all_sequences), all_sequences[1500], len(all_sequences[1500]))   "
   ]
  },
  {
   "cell_type": "code",
   "execution_count": 24,
   "metadata": {},
   "outputs": [],
   "source": [
    "# f1 = open(\"final_dataset.txt\", \"w\", encoding=\"utf-8\")\n",
    "\n",
    "# for i in tqdm(all_sequences):\n",
    "#     f1.write(i)\n",
    "# f1.close()"
   ]
  },
  {
   "cell_type": "code",
   "execution_count": 25,
   "metadata": {},
   "outputs": [],
   "source": [
    "# final_text = open(\"final_dataset.txt\", 'rb').read().decode(encoding='utf-8')\n",
    "# print(f'Length of text: {len(final_text)} characters')\n",
    "\n",
    "# print(len(final_text))"
   ]
  },
  {
   "cell_type": "code",
   "execution_count": 26,
   "metadata": {},
   "outputs": [],
   "source": [
    "# vocab2 = sorted(set(final_text))\n",
    "# print(f'{len(vocab2)} unique characters')"
   ]
  },
  {
   "cell_type": "code",
   "execution_count": 27,
   "metadata": {},
   "outputs": [],
   "source": [
    "# ids_from_chars2 = tf.keras.layers.StringLookup(\n",
    "#     vocabulary=list(vocab2), mask_token=None)"
   ]
  },
  {
   "cell_type": "code",
   "execution_count": 28,
   "metadata": {},
   "outputs": [],
   "source": [
    "# chars_from_ids2 = tf.keras.layers.StringLookup(\n",
    "#     vocabulary=ids_from_chars2.get_vocabulary(), invert=True, mask_token=None)"
   ]
  },
  {
   "cell_type": "code",
   "execution_count": 29,
   "metadata": {},
   "outputs": [],
   "source": [
    "# all_ids2 = ids_from_chars2(tf.strings.unicode_split(final_text, 'UTF-8'))\n",
    "# all_ids2"
   ]
  },
  {
   "cell_type": "code",
   "execution_count": 30,
   "metadata": {},
   "outputs": [],
   "source": [
    "# ids_dataset2 = tf.data.Dataset.from_tensor_slices(all_ids2)"
   ]
  },
  {
   "cell_type": "code",
   "execution_count": 31,
   "metadata": {},
   "outputs": [],
   "source": [
    "# for ids2 in ids_dataset2.take(10):\n",
    "#     print(chars_from_ids2(ids2).numpy().decode('utf-8'), ids2)"
   ]
  },
  {
   "cell_type": "code",
   "execution_count": 32,
   "metadata": {},
   "outputs": [],
   "source": [
    "# sequences2 = ids_dataset2.batch(seq_length+1, drop_remainder=True)\n",
    "\n",
    "# for seq2 in sequences2.take(3):\n",
    "#   print(chars_from_ids2(seq2))"
   ]
  },
  {
   "cell_type": "code",
   "execution_count": 33,
   "metadata": {},
   "outputs": [],
   "source": [
    "# type(sequences2)"
   ]
  },
  {
   "cell_type": "code",
   "execution_count": 34,
   "metadata": {},
   "outputs": [],
   "source": [
    "# def text_from_ids2(ids2):\n",
    "#   return tf.strings.reduce_join(chars_from_ids2(ids2), axis=-1)"
   ]
  },
  {
   "cell_type": "code",
   "execution_count": 35,
   "metadata": {},
   "outputs": [],
   "source": [
    "# for seq2 in sequences2.take(5):\n",
    "#   print(text_from_ids2(seq2).numpy())"
   ]
  },
  {
   "cell_type": "code",
   "execution_count": 36,
   "metadata": {},
   "outputs": [],
   "source": [
    "# def split_input_target2(sequence2):\n",
    "#     input_text2 = sequence2[:-1]\n",
    "#     target_text2 = sequence2[1:]\n",
    "#     return input_text2, target_text2"
   ]
  },
  {
   "cell_type": "code",
   "execution_count": 37,
   "metadata": {},
   "outputs": [],
   "source": [
    "# dataset2 = sequences2.map(split_input_target2)\n",
    "\n",
    "# dataset2"
   ]
  },
  {
   "cell_type": "code",
   "execution_count": 38,
   "metadata": {},
   "outputs": [],
   "source": [
    "# for input_example, target_example in dataset2.take(1):\n",
    "#     print(\"Input :\", text_from_ids2(input_example).numpy())\n",
    "#     print(\"Target:\", text_from_ids2(target_example).numpy())"
   ]
  },
  {
   "cell_type": "code",
   "execution_count": 39,
   "metadata": {},
   "outputs": [],
   "source": [
    "# # Batch size\n",
    "# BATCH_SIZE = 16#4\n",
    "\n",
    "# # Buffer size to shuffle the dataset\n",
    "# BUFFER_SIZE = 100\n",
    "\n",
    "# dataset2 = (\n",
    "#     dataset2\n",
    "#     .shuffle(BUFFER_SIZE)\n",
    "#     .batch(BATCH_SIZE, drop_remainder=True)\n",
    "#     .prefetch(tf.data.experimental.AUTOTUNE))\n",
    "\n",
    "# dataset2"
   ]
  },
  {
   "cell_type": "code",
   "execution_count": 40,
   "metadata": {},
   "outputs": [],
   "source": [
    "# # Length of the vocabulary in StringLookup Layer\n",
    "# vocab_size2 = len(ids_from_chars2.get_vocabulary())\n",
    "\n",
    "# # The embedding dimension\n",
    "# embedding_dim2 = 256\n",
    "\n",
    "# # Number of RNN units\n",
    "# rnn_units2 = 1024"
   ]
  },
  {
   "cell_type": "code",
   "execution_count": 41,
   "metadata": {},
   "outputs": [],
   "source": [
    "# class MyModel2(tf.keras.Model):\n",
    "#   def __init__(self, vocab_size, embedding_dim, rnn_units):\n",
    "#     super().__init__(self)\n",
    "#     self.embedding = tf.keras.layers.Embedding(vocab_size, embedding_dim)\n",
    "#     self.gru = tf.keras.layers.GRU(rnn_units, return_sequences=True,return_state=True, dropout=0.2)\n",
    "   \n",
    "#     self.gru2 = tf.keras.layers.GRU(rnn_units, return_sequences=True,return_state=True, dropout=0.2)\n",
    "\n",
    "#     self.gru3 = tf.keras.layers.GRU(rnn_units, return_sequences=True,return_state=True, dropout=0.2)\n",
    "\n",
    "#     self.dense = tf.keras.layers.Dense(vocab_size)\n",
    "\n",
    "#   def call(self, inputs, states=None, return_state=False, training=False):\n",
    "#     x = inputs\n",
    "#     x = self.embedding(x, training=training)\n",
    "#     if states is None:\n",
    "#       states = self.gru.get_initial_state(x)\n",
    "#     x, states = self.gru(x, initial_state=states, training=training)\n",
    "    \n",
    "#     x, states = self.gru2(x, initial_state=states, training=training)\n",
    "\n",
    "#     x, states = self.gru2(x, initial_state=states, training=training)\n",
    "   \n",
    "#     x = self.dense(x, training=training)\n",
    "\n",
    "#     if return_state:\n",
    "#       return x, states\n",
    "#     else:\n",
    "#       return x"
   ]
  },
  {
   "cell_type": "code",
   "execution_count": 42,
   "metadata": {},
   "outputs": [],
   "source": [
    "# model = MyModel2(vocab_size=vocab_size2, embedding_dim=embedding_dim2, rnn_units=rnn_units2)"
   ]
  },
  {
   "cell_type": "code",
   "execution_count": 43,
   "metadata": {},
   "outputs": [],
   "source": [
    "# for input_example_batch2, target_example_batch2 in dataset2.take(1):\n",
    "#     print(\"building\")\n",
    "#     example_batch_predictions2 = model(input_example_batch2)\n",
    "#     print(example_batch_predictions2.shape, \"(batch_size, sequence_length, vocab_size)\")"
   ]
  },
  {
   "cell_type": "code",
   "execution_count": 44,
   "metadata": {},
   "outputs": [],
   "source": [
    "# model.summary()"
   ]
  },
  {
   "cell_type": "code",
   "execution_count": 45,
   "metadata": {},
   "outputs": [],
   "source": [
    "# sampled_indices2 = tf.random.categorical(example_batch_predictions2[0], num_samples=1)\n",
    "# sampled_indices2 = tf.squeeze(sampled_indices2, axis=-1).numpy()"
   ]
  },
  {
   "cell_type": "code",
   "execution_count": 46,
   "metadata": {},
   "outputs": [],
   "source": [
    "# print(\"Input:\\n\", text_from_ids2(input_example_batch2[0]).numpy())\n",
    "# print()\n",
    "# print(\"Next Char Predictions:\\n\", text_from_ids2(sampled_indices2).numpy())"
   ]
  },
  {
   "cell_type": "code",
   "execution_count": 47,
   "metadata": {},
   "outputs": [],
   "source": [
    "# loss2 = tf.losses.SparseCategoricalCrossentropy(from_logits=True)"
   ]
  },
  {
   "cell_type": "code",
   "execution_count": 48,
   "metadata": {},
   "outputs": [],
   "source": [
    "# example_batch_mean_loss2 = loss2(target_example_batch2, example_batch_predictions2)\n",
    "# print(\"Prediction shape: \", example_batch_predictions2.shape, \" # (batch_size, sequence_length, vocab_size)\")\n",
    "# print(\"Mean loss:        \", example_batch_mean_loss2)"
   ]
  },
  {
   "cell_type": "code",
   "execution_count": 49,
   "metadata": {},
   "outputs": [],
   "source": [
    "# tf.exp(example_batch_mean_loss2).numpy()"
   ]
  },
  {
   "cell_type": "code",
   "execution_count": 50,
   "metadata": {},
   "outputs": [],
   "source": [
    "# model.compile(optimizer='adam', loss=loss2)"
   ]
  },
  {
   "cell_type": "code",
   "execution_count": 51,
   "metadata": {},
   "outputs": [],
   "source": [
    "# class CustomTraining2(MyModel2):\n",
    "#   @tf.function\n",
    "#   def train_step(self, inputs):\n",
    "#       inputs, labels = inputs\n",
    "#       with tf.GradientTape() as tape:\n",
    "#           predictions = self(inputs, training=True)\n",
    "#           loss = self.loss(labels, predictions)\n",
    "#       grads = tape.gradient(loss, model.trainable_variables)\n",
    "#       self.optimizer.apply_gradients(zip(grads, model.trainable_variables))\n",
    "\n",
    "#       return {'loss': loss}"
   ]
  },
  {
   "cell_type": "code",
   "execution_count": 52,
   "metadata": {},
   "outputs": [],
   "source": [
    "# model = CustomTraining2(\n",
    "#     vocab_size=len(ids_from_chars2.get_vocabulary()),\n",
    "#     embedding_dim=embedding_dim2,\n",
    "#     rnn_units=rnn_units2)"
   ]
  },
  {
   "cell_type": "code",
   "execution_count": 53,
   "metadata": {},
   "outputs": [],
   "source": [
    "# model.compile(optimizer = tf.keras.optimizers.Adam(),\n",
    "#               loss=tf.keras.losses.SparseCategoricalCrossentropy(from_logits=True))"
   ]
  },
  {
   "cell_type": "code",
   "execution_count": 54,
   "metadata": {},
   "outputs": [],
   "source": [
    "# for input_example_batch2, target_example_batch2 in dataset2.take(1):\n",
    "#     print(\"building\")\n",
    "#     example_batch_predictions2 = model(input_example_batch2)\n",
    "#     print(example_batch_predictions2.shape, \"(batch_size, sequence_length, vocab_size)\")"
   ]
  },
  {
   "cell_type": "code",
   "execution_count": 55,
   "metadata": {},
   "outputs": [],
   "source": [
    "# model.summary()"
   ]
  },
  {
   "cell_type": "code",
   "execution_count": 56,
   "metadata": {},
   "outputs": [],
   "source": [
    "# from tensorflow.keras.optimizers import Adam\n",
    "# from tensorflow.keras.callbacks import ModelCheckpoint, ReduceLROnPlateau, EarlyStopping\n",
    "\n",
    "# adam_fine = Adam(learning_rate=0.00005, beta_1=0.9, beta_2=0.999, epsilon=None, decay=0.0, amsgrad=False) #20x smaller than standard\n",
    "\n",
    "# early_stop=EarlyStopping(monitor='loss', mode='min', verbose=0, patience=15, restore_best_weights=True)\n",
    "# # lrd = ReduceLROnPlateau(monitor = 'val_acc', mode=\"max\", patience = 4,verbose = 1,factor = 0.50, min_lr = 1e-10)\n",
    "# lrd = ReduceLROnPlateau(monitor = 'loss', patience = 3,verbose = 1, factor = 0.50, min_lr = 1e-10)\n",
    "# mcp = ModelCheckpoint(\"model_weights\" ,save_format=\"tf\")"
   ]
  },
  {
   "cell_type": "code",
   "execution_count": 57,
   "metadata": {},
   "outputs": [],
   "source": [
    "# history2 = model.fit(dataset2, epochs=20, callbacks=[early_stop, lrd, mcp])"
   ]
  },
  {
   "cell_type": "code",
   "execution_count": 58,
   "metadata": {},
   "outputs": [],
   "source": [
    "# import matplotlib.pyplot as plt\n",
    "\n",
    "# # Plot the loss graph\n",
    "# plt.plot(history2.history['loss'])\n",
    "# plt.title('Model Loss')\n",
    "# plt.xlabel('Epochs')\n",
    "# plt.ylabel('Loss')\n",
    "# plt.show()"
   ]
  },
  {
   "cell_type": "code",
   "execution_count": 59,
   "metadata": {},
   "outputs": [],
   "source": [
    "# class OneStep2(tf.keras.Model):\n",
    "#   def __init__(self, model, chars_from_ids2, ids_from_chars2, temperature=0.1):\n",
    "#     super().__init__()\n",
    "#     self.temperature = temperature\n",
    "#     self.model = model\n",
    "#     self.chars_from_ids2 = chars_from_ids2\n",
    "#     self.ids_from_chars2 = ids_from_chars2\n",
    "\n",
    "#     # Create a mask to prevent \"[UNK]\" from being generated.\n",
    "#     skip_ids = self.ids_from_chars2(['[UNK]'])[:, None]\n",
    "#     sparse_mask = tf.SparseTensor(\n",
    "#         # Put a -inf at each bad index.\n",
    "#         values=[-float('inf')]*len(skip_ids),\n",
    "#         indices=skip_ids,\n",
    "#         # Match the shape to the vocabulary\n",
    "#         dense_shape=[len(ids_from_chars2.get_vocabulary())])\n",
    "#     self.prediction_mask = tf.sparse.to_dense(sparse_mask)\n",
    "\n",
    "#   @tf.function\n",
    "#   def generate_one_step(self, inputs, states=None):\n",
    "#     # Convert strings to token IDs.\n",
    "#     input_chars = tf.strings.unicode_split(inputs, 'UTF-8')\n",
    "#     input_ids = self.ids_from_chars2(input_chars).to_tensor()\n",
    "\n",
    "#     # Run the model.\n",
    "#     predicted_logits, states = self.model(inputs=input_ids, states=states,return_state=True)\n",
    "#     # Only use the last prediction.\n",
    "#     predicted_logits = predicted_logits[:, -1, :]\n",
    "#     predicted_logits = predicted_logits/self.temperature\n",
    "#     # Apply the prediction mask: prevent \"[UNK]\" from being generated.\n",
    "#     predicted_logits = predicted_logits + self.prediction_mask\n",
    "\n",
    "#     # Sample the output logits to generate token IDs.\n",
    "#     # print(\"PL\", dir(predicted_logits))\n",
    "#     # print(\"PL2\", predicted_logits.op)\n",
    "#     predicted_ids = tf.random.categorical(predicted_logits, num_samples=1)\n",
    "#     # predicted_ids = predicted_logits[:, 2:3]\n",
    "#     # print(\"PI\", predicted_ids.shape, predicted_ids)\n",
    "#     predicted_ids = tf.squeeze(predicted_ids, axis=-1)\n",
    "\n",
    "#     # predicted_ids = tf.squeeze(predicted_logits, axis=-1)\n",
    "\n",
    "#     # Convert from token ids to characters\n",
    "#     predicted_chars = self.chars_from_ids2(predicted_ids)\n",
    "\n",
    "#     # Return the characters and model state.\n",
    "#     return predicted_chars, states"
   ]
  },
  {
   "cell_type": "code",
   "execution_count": 60,
   "metadata": {},
   "outputs": [],
   "source": [
    "# one_step_model2 = OneStep2(model, chars_from_ids2, ids_from_chars2)"
   ]
  },
  {
   "cell_type": "code",
   "execution_count": 61,
   "metadata": {},
   "outputs": [],
   "source": [
    "# states = None\n",
    "# subject_line = 'Request for Maternity Leave:'\n",
    "# # subject_line = subject_line.replace(\":\", \"\")\n",
    "# subject_line = subject_line.replace(\".\", \"\")\n",
    "# # subject_line = subject_line.lower()\n",
    "\n",
    "# next_char = tf.constant([subject_line])\n",
    "# result = [next_char]\n",
    "\n",
    "# for n in range(500):\n",
    "#   # print(next_char)\n",
    "#   next_char, states = one_step_model2.generate_one_step(next_char, states=states)\n",
    "#   result.append(next_char)\n",
    "\n",
    "# result = tf.strings.join(result)\n",
    "# end = time.time()\n",
    "\n",
    "\n",
    "# try:\n",
    "#     op = result[0].numpy().decode('utf-8')\n",
    "#     res = op[:op.index(\"\\n\\r\\n\\r\\n\")]\n",
    "#     print(res, '\\n\\n' + '_'*80)\n",
    "# except:\n",
    "#    print(result[0].numpy().decode('utf-8'), '\\n\\n' + '_'*80)"
   ]
  },
  {
   "attachments": {},
   "cell_type": "markdown",
   "metadata": {},
   "source": [
    "############################################################################"
   ]
  },
  {
   "cell_type": "code",
   "execution_count": null,
   "metadata": {},
   "outputs": [],
   "source": []
  },
  {
   "cell_type": "code",
   "execution_count": 62,
   "metadata": {},
   "outputs": [
    {
     "name": "stdout",
     "output_type": "stream",
     "text": [
      "Input : b\"Request for Maternity Leave:\\r\\n\\r\\nDear [Manager's Name],\\r\\n\\r\\nI am writing to inform you that I will be taking maternity leave starting from [Start Date] \"\n",
      "Target: b\"equest for Maternity Leave:\\r\\n\\r\\nDear [Manager's Name],\\r\\n\\r\\nI am writing to inform you that I will be taking maternity leave starting from [Start Date] u\"\n"
     ]
    }
   ],
   "source": [
    "for input_example, target_example in dataset.take(1):\n",
    "    print(\"Input :\", text_from_ids(input_example).numpy())\n",
    "    print(\"Target:\", text_from_ids(target_example).numpy())"
   ]
  },
  {
   "attachments": {},
   "cell_type": "markdown",
   "metadata": {},
   "source": [
    "# Create training batches"
   ]
  },
  {
   "cell_type": "code",
   "execution_count": 63,
   "metadata": {},
   "outputs": [
    {
     "data": {
      "text/plain": [
       "<PrefetchDataset element_spec=(TensorSpec(shape=(16, 150), dtype=tf.int64, name=None), TensorSpec(shape=(16, 150), dtype=tf.int64, name=None))>"
      ]
     },
     "execution_count": 63,
     "metadata": {},
     "output_type": "execute_result"
    }
   ],
   "source": [
    "# Batch size\n",
    "BATCH_SIZE = 16#4\n",
    "\n",
    "# Buffer size to shuffle the dataset\n",
    "BUFFER_SIZE = 500\n",
    "\n",
    "dataset = (\n",
    "    dataset\n",
    "    .shuffle(BUFFER_SIZE)\n",
    "    .batch(BATCH_SIZE, drop_remainder=True)\n",
    "    .prefetch(tf.data.experimental.AUTOTUNE))\n",
    "\n",
    "dataset"
   ]
  },
  {
   "attachments": {},
   "cell_type": "markdown",
   "metadata": {},
   "source": [
    "# Model building"
   ]
  },
  {
   "cell_type": "code",
   "execution_count": 64,
   "metadata": {},
   "outputs": [],
   "source": [
    "# Length of the vocabulary in StringLookup Layer\n",
    "vocab_size = len(ids_from_chars.get_vocabulary())\n",
    "\n",
    "# The embedding dimension\n",
    "embedding_dim = 256\n",
    "\n",
    "# Number of RNN units\n",
    "rnn_units = 1024"
   ]
  },
  {
   "cell_type": "code",
   "execution_count": 65,
   "metadata": {},
   "outputs": [],
   "source": [
    "class MyModel(tf.keras.Model):\n",
    "  def __init__(self, vocab_size, embedding_dim, rnn_units):\n",
    "    super().__init__(self)\n",
    "    self.embedding = tf.keras.layers.Embedding(vocab_size, embedding_dim)\n",
    "    self.gru = tf.keras.layers.GRU(rnn_units, return_sequences=True,return_state=True)#, dropout=0.1)\n",
    "   \n",
    "    # self.gru2 = tf.keras.layers.GRU(rnn_units, return_sequences=True,return_state=True, dropout=0.2)\n",
    "\n",
    "    self.dense = tf.keras.layers.Dense(vocab_size)\n",
    "\n",
    "  def call(self, inputs, states=None, return_state=False, training=False):\n",
    "    x = inputs\n",
    "    x = self.embedding(x, training=training)\n",
    "    if states is None:\n",
    "      states = self.gru.get_initial_state(x)\n",
    "\n",
    "    x, states = self.gru(x, initial_state=states, training=training)\n",
    "    \n",
    "    # x, states = self.gru2(x, initial_state=states, training=training)\n",
    "   \n",
    "    x = self.dense(x, training=training)\n",
    "\n",
    "    if return_state:\n",
    "      return x, states\n",
    "    else:\n",
    "      return x"
   ]
  },
  {
   "cell_type": "code",
   "execution_count": 66,
   "metadata": {},
   "outputs": [],
   "source": [
    "model = MyModel(vocab_size=vocab_size, embedding_dim=embedding_dim,rnn_units=rnn_units)"
   ]
  },
  {
   "cell_type": "code",
   "execution_count": 67,
   "metadata": {},
   "outputs": [
    {
     "name": "stdout",
     "output_type": "stream",
     "text": [
      "building\n",
      "(16, 150, 66) (batch_size, sequence_length, vocab_size)\n"
     ]
    }
   ],
   "source": [
    "for input_example_batch, target_example_batch in dataset.take(1):\n",
    "    print(\"building\")\n",
    "    example_batch_predictions = model(input_example_batch)\n",
    "    print(example_batch_predictions.shape, \"(batch_size, sequence_length, vocab_size)\")"
   ]
  },
  {
   "cell_type": "code",
   "execution_count": 68,
   "metadata": {},
   "outputs": [
    {
     "name": "stdout",
     "output_type": "stream",
     "text": [
      "Model: \"my_model\"\n",
      "_________________________________________________________________\n",
      " Layer (type)                Output Shape              Param #   \n",
      "=================================================================\n",
      " embedding (Embedding)       multiple                  16896     \n",
      "                                                                 \n",
      " gru (GRU)                   multiple                  3938304   \n",
      "                                                                 \n",
      " dense (Dense)               multiple                  67650     \n",
      "                                                                 \n",
      "=================================================================\n",
      "Total params: 4,022,850\n",
      "Trainable params: 4,022,850\n",
      "Non-trainable params: 0\n",
      "_________________________________________________________________\n"
     ]
    }
   ],
   "source": [
    "model.summary()"
   ]
  },
  {
   "cell_type": "code",
   "execution_count": 69,
   "metadata": {},
   "outputs": [],
   "source": [
    "# list(dataset)"
   ]
  },
  {
   "cell_type": "code",
   "execution_count": 70,
   "metadata": {},
   "outputs": [],
   "source": [
    "# list(dataset.take(1))"
   ]
  },
  {
   "cell_type": "code",
   "execution_count": 71,
   "metadata": {},
   "outputs": [],
   "source": [
    "sampled_indices = tf.random.categorical(example_batch_predictions[0], num_samples=1)\n",
    "sampled_indices = tf.squeeze(sampled_indices, axis=-1).numpy()"
   ]
  },
  {
   "cell_type": "code",
   "execution_count": 72,
   "metadata": {},
   "outputs": [
    {
     "data": {
      "text/plain": [
       "array([33, 20, 65, 54, 47, 57, 57, 38, 40, 40, 38, 39, 29,  1, 10, 17, 35,\n",
       "       54, 14, 38, 19, 52, 44, 35,  2,  7, 18, 62, 47, 25, 24, 38, 18, 21,\n",
       "       32, 58, 51, 19, 63, 32, 47, 41, 10, 28, 47, 31,  3, 22, 13, 61, 39,\n",
       "       20, 17,  2, 31,  3, 15, 64, 19, 48, 14,  6, 36,  5, 12,  4, 48, 28,\n",
       "       34, 54, 45, 20, 57, 56, 25, 32,  4,  7, 11, 29, 35, 26, 51, 25, 16,\n",
       "       17, 24, 57, 42, 37, 35, 32, 40, 22, 13, 11,  0,  2, 52, 33,  2, 38,\n",
       "       37, 20, 54, 33, 37,  4, 28,  7, 19, 46, 51, 49, 14, 50, 12, 48, 52,\n",
       "       64, 45, 44, 42, 40, 30, 48, 63, 15,  3, 13, 12, 59, 41, 35, 48,  6,\n",
       "       28, 53, 45,  2, 21, 20, 41,  9, 33, 28, 38, 44, 57, 65],\n",
       "      dtype=int64)"
      ]
     },
     "execution_count": 72,
     "metadata": {},
     "output_type": "execute_result"
    }
   ],
   "source": [
    "sampled_indices"
   ]
  },
  {
   "cell_type": "code",
   "execution_count": 73,
   "metadata": {},
   "outputs": [
    {
     "name": "stdout",
     "output_type": "stream",
     "text": [
      "Input:\n",
      " b'ther steps I need to take to process my leave request.\\r\\n\\r\\nThank you for your understanding and support during this time.\\r\\n\\r\\nSincerely,\\r\\n[Your Name]\\r\\n\\r'\n",
      "\n",
      "Next Char Predictions:\n",
      " b\"UF\\xe2\\x80\\x99piss]bb]aP\\n/CWp?]EnfW\\r,DxiLJ]DGTtmEyTic/OiS H:waFC\\rS AzEj?)Y(2'jOVpgFsrLT',1PWMmLBCJsd[WTbH:1[UNK]\\rnU\\r][FpU['O,Ehmk?l2jnzgfdbRjyA :2ucWj)Oog\\rGFc.UO]fs\\xe2\\x80\\x99\"\n"
     ]
    }
   ],
   "source": [
    "print(\"Input:\\n\", text_from_ids(input_example_batch[0]).numpy())\n",
    "print()\n",
    "print(\"Next Char Predictions:\\n\", text_from_ids(sampled_indices).numpy())"
   ]
  },
  {
   "attachments": {},
   "cell_type": "markdown",
   "metadata": {},
   "source": [
    "# Train the model"
   ]
  },
  {
   "cell_type": "code",
   "execution_count": 74,
   "metadata": {},
   "outputs": [],
   "source": [
    "loss = tf.losses.SparseCategoricalCrossentropy(from_logits=True)"
   ]
  },
  {
   "cell_type": "code",
   "execution_count": 75,
   "metadata": {},
   "outputs": [
    {
     "name": "stdout",
     "output_type": "stream",
     "text": [
      "Prediction shape:  (16, 150, 66)  # (batch_size, sequence_length, vocab_size)\n",
      "Mean loss:         tf.Tensor(4.1897154, shape=(), dtype=float32)\n"
     ]
    }
   ],
   "source": [
    "example_batch_mean_loss = loss(target_example_batch, example_batch_predictions)\n",
    "print(\"Prediction shape: \", example_batch_predictions.shape, \" # (batch_size, sequence_length, vocab_size)\")\n",
    "print(\"Mean loss:        \", example_batch_mean_loss)"
   ]
  },
  {
   "cell_type": "code",
   "execution_count": 76,
   "metadata": {},
   "outputs": [
    {
     "data": {
      "text/plain": [
       "66.004005"
      ]
     },
     "execution_count": 76,
     "metadata": {},
     "output_type": "execute_result"
    }
   ],
   "source": [
    "tf.exp(example_batch_mean_loss).numpy()"
   ]
  },
  {
   "cell_type": "code",
   "execution_count": 77,
   "metadata": {},
   "outputs": [],
   "source": [
    "model.compile(optimizer='adam', loss=loss)"
   ]
  },
  {
   "cell_type": "code",
   "execution_count": 78,
   "metadata": {},
   "outputs": [],
   "source": [
    "# EPOCHS = 200\n",
    "# history = model.fit(dataset, epochs=EPOCHS)"
   ]
  },
  {
   "attachments": {},
   "cell_type": "markdown",
   "metadata": {},
   "source": [
    "# Training customized model"
   ]
  },
  {
   "cell_type": "code",
   "execution_count": 79,
   "metadata": {},
   "outputs": [],
   "source": [
    "class CustomTraining(MyModel):\n",
    "  @tf.function\n",
    "  def train_step(self, inputs):\n",
    "      inputs, labels = inputs\n",
    "      with tf.GradientTape() as tape:\n",
    "          predictions = self(inputs, training=True)\n",
    "          loss = self.loss(labels, predictions)\n",
    "      grads = tape.gradient(loss, model.trainable_variables)\n",
    "      self.optimizer.apply_gradients(zip(grads, model.trainable_variables))\n",
    "\n",
    "      return {'loss': loss}"
   ]
  },
  {
   "cell_type": "code",
   "execution_count": 80,
   "metadata": {},
   "outputs": [],
   "source": [
    "model = CustomTraining(\n",
    "    vocab_size=len(ids_from_chars.get_vocabulary()),\n",
    "    embedding_dim=embedding_dim,\n",
    "    rnn_units=rnn_units)"
   ]
  },
  {
   "cell_type": "code",
   "execution_count": 81,
   "metadata": {},
   "outputs": [],
   "source": [
    "model.compile(optimizer = tf.keras.optimizers.Adam(),\n",
    "              loss=tf.keras.losses.SparseCategoricalCrossentropy(from_logits=True))"
   ]
  },
  {
   "cell_type": "code",
   "execution_count": 82,
   "metadata": {},
   "outputs": [
    {
     "name": "stdout",
     "output_type": "stream",
     "text": [
      "building\n",
      "(16, 150, 66) (batch_size, sequence_length, vocab_size)\n"
     ]
    }
   ],
   "source": [
    "for input_example_batch, target_example_batch in dataset.take(1):\n",
    "    print(\"building\")\n",
    "    example_batch_predictions = model(input_example_batch)\n",
    "    print(example_batch_predictions.shape, \"(batch_size, sequence_length, vocab_size)\")"
   ]
  },
  {
   "cell_type": "code",
   "execution_count": 83,
   "metadata": {},
   "outputs": [
    {
     "name": "stdout",
     "output_type": "stream",
     "text": [
      "Model: \"custom_training\"\n",
      "_________________________________________________________________\n",
      " Layer (type)                Output Shape              Param #   \n",
      "=================================================================\n",
      " embedding_1 (Embedding)     multiple                  16896     \n",
      "                                                                 \n",
      " gru_1 (GRU)                 multiple                  3938304   \n",
      "                                                                 \n",
      " dense_1 (Dense)             multiple                  67650     \n",
      "                                                                 \n",
      "=================================================================\n",
      "Total params: 4,022,850\n",
      "Trainable params: 4,022,850\n",
      "Non-trainable params: 0\n",
      "_________________________________________________________________\n"
     ]
    }
   ],
   "source": [
    "model.summary()"
   ]
  },
  {
   "cell_type": "code",
   "execution_count": 84,
   "metadata": {},
   "outputs": [],
   "source": [
    "from tensorflow.keras.optimizers import Adam\n",
    "from tensorflow.keras.callbacks import ModelCheckpoint, ReduceLROnPlateau, EarlyStopping, TensorBoard\n",
    "\n",
    "adam_fine = Adam(learning_rate=0.00005, beta_1=0.9, beta_2=0.999, epsilon=None, decay=0.0, amsgrad=False) #20x smaller than standard\n",
    "\n",
    "early_stop=EarlyStopping(monitor='loss', mode='min', verbose=0, patience=15, restore_best_weights=True)\n",
    "# lrd = ReduceLROnPlateau(monitor = 'val_acc', mode=\"max\", patience = 4,verbose = 1,factor = 0.50, min_lr = 1e-10)\n",
    "lrd = ReduceLROnPlateau(monitor = 'loss', patience = 3,verbose = 1, factor = 0.50, min_lr = 1e-10)\n",
    "mcp = ModelCheckpoint(\"model_weights\" ,save_format=\"tf\")"
   ]
  },
  {
   "cell_type": "code",
   "execution_count": 85,
   "metadata": {},
   "outputs": [
    {
     "name": "stdout",
     "output_type": "stream",
     "text": [
      "Epoch 1/80\n",
      "247/248 [============================>.] - ETA: 0s - loss: 1.9058"
     ]
    },
    {
     "name": "stderr",
     "output_type": "stream",
     "text": [
      "WARNING:absl:Found untraced functions such as gru_cell_1_layer_call_fn, gru_cell_1_layer_call_and_return_conditional_losses while saving (showing 2 of 2). These functions will not be directly callable after loading.\n"
     ]
    },
    {
     "name": "stdout",
     "output_type": "stream",
     "text": [
      "INFO:tensorflow:Assets written to: model_weights\\assets\n"
     ]
    },
    {
     "name": "stderr",
     "output_type": "stream",
     "text": [
      "INFO:tensorflow:Assets written to: model_weights\\assets\n"
     ]
    },
    {
     "name": "stdout",
     "output_type": "stream",
     "text": [
      "248/248 [==============================] - 10s 37ms/step - loss: 1.8966 - lr: 0.0010\n",
      "Epoch 2/80\n",
      "247/248 [============================>.] - ETA: 0s - loss: 0.5554"
     ]
    },
    {
     "name": "stderr",
     "output_type": "stream",
     "text": [
      "WARNING:absl:Found untraced functions such as gru_cell_1_layer_call_fn, gru_cell_1_layer_call_and_return_conditional_losses while saving (showing 2 of 2). These functions will not be directly callable after loading.\n"
     ]
    },
    {
     "name": "stdout",
     "output_type": "stream",
     "text": [
      "INFO:tensorflow:Assets written to: model_weights\\assets\n"
     ]
    },
    {
     "name": "stderr",
     "output_type": "stream",
     "text": [
      "INFO:tensorflow:Assets written to: model_weights\\assets\n"
     ]
    },
    {
     "name": "stdout",
     "output_type": "stream",
     "text": [
      "248/248 [==============================] - 9s 35ms/step - loss: 0.5538 - lr: 0.0010\n",
      "Epoch 3/80\n",
      "246/248 [============================>.] - ETA: 0s - loss: 0.2801"
     ]
    },
    {
     "name": "stderr",
     "output_type": "stream",
     "text": [
      "WARNING:absl:Found untraced functions such as gru_cell_1_layer_call_fn, gru_cell_1_layer_call_and_return_conditional_losses while saving (showing 2 of 2). These functions will not be directly callable after loading.\n"
     ]
    },
    {
     "name": "stdout",
     "output_type": "stream",
     "text": [
      "INFO:tensorflow:Assets written to: model_weights\\assets\n"
     ]
    },
    {
     "name": "stderr",
     "output_type": "stream",
     "text": [
      "INFO:tensorflow:Assets written to: model_weights\\assets\n"
     ]
    },
    {
     "name": "stdout",
     "output_type": "stream",
     "text": [
      "248/248 [==============================] - 9s 36ms/step - loss: 0.2796 - lr: 0.0010\n",
      "Epoch 4/80\n",
      "248/248 [==============================] - ETA: 0s - loss: 0.1792"
     ]
    },
    {
     "name": "stderr",
     "output_type": "stream",
     "text": [
      "WARNING:absl:Found untraced functions such as gru_cell_1_layer_call_fn, gru_cell_1_layer_call_and_return_conditional_losses while saving (showing 2 of 2). These functions will not be directly callable after loading.\n"
     ]
    },
    {
     "name": "stdout",
     "output_type": "stream",
     "text": [
      "INFO:tensorflow:Assets written to: model_weights\\assets\n"
     ]
    },
    {
     "name": "stderr",
     "output_type": "stream",
     "text": [
      "INFO:tensorflow:Assets written to: model_weights\\assets\n"
     ]
    },
    {
     "name": "stdout",
     "output_type": "stream",
     "text": [
      "248/248 [==============================] - 9s 36ms/step - loss: 0.1791 - lr: 0.0010\n",
      "Epoch 5/80\n",
      "247/248 [============================>.] - ETA: 0s - loss: 0.1411"
     ]
    },
    {
     "name": "stderr",
     "output_type": "stream",
     "text": [
      "WARNING:absl:Found untraced functions such as gru_cell_1_layer_call_fn, gru_cell_1_layer_call_and_return_conditional_losses while saving (showing 2 of 2). These functions will not be directly callable after loading.\n"
     ]
    },
    {
     "name": "stdout",
     "output_type": "stream",
     "text": [
      "INFO:tensorflow:Assets written to: model_weights\\assets\n"
     ]
    },
    {
     "name": "stderr",
     "output_type": "stream",
     "text": [
      "INFO:tensorflow:Assets written to: model_weights\\assets\n"
     ]
    },
    {
     "name": "stdout",
     "output_type": "stream",
     "text": [
      "248/248 [==============================] - 9s 35ms/step - loss: 0.1410 - lr: 0.0010\n",
      "Epoch 6/80\n",
      "247/248 [============================>.] - ETA: 0s - loss: 0.1218"
     ]
    },
    {
     "name": "stderr",
     "output_type": "stream",
     "text": [
      "WARNING:absl:Found untraced functions such as gru_cell_1_layer_call_fn, gru_cell_1_layer_call_and_return_conditional_losses while saving (showing 2 of 2). These functions will not be directly callable after loading.\n"
     ]
    },
    {
     "name": "stdout",
     "output_type": "stream",
     "text": [
      "INFO:tensorflow:Assets written to: model_weights\\assets\n"
     ]
    },
    {
     "name": "stderr",
     "output_type": "stream",
     "text": [
      "INFO:tensorflow:Assets written to: model_weights\\assets\n"
     ]
    },
    {
     "name": "stdout",
     "output_type": "stream",
     "text": [
      "248/248 [==============================] - 9s 37ms/step - loss: 0.1218 - lr: 0.0010\n",
      "Epoch 7/80\n",
      "248/248 [==============================] - ETA: 0s - loss: 0.1112"
     ]
    },
    {
     "name": "stderr",
     "output_type": "stream",
     "text": [
      "WARNING:absl:Found untraced functions such as gru_cell_1_layer_call_fn, gru_cell_1_layer_call_and_return_conditional_losses while saving (showing 2 of 2). These functions will not be directly callable after loading.\n"
     ]
    },
    {
     "name": "stdout",
     "output_type": "stream",
     "text": [
      "INFO:tensorflow:Assets written to: model_weights\\assets\n"
     ]
    },
    {
     "name": "stderr",
     "output_type": "stream",
     "text": [
      "INFO:tensorflow:Assets written to: model_weights\\assets\n"
     ]
    },
    {
     "name": "stdout",
     "output_type": "stream",
     "text": [
      "248/248 [==============================] - 9s 35ms/step - loss: 0.1112 - lr: 0.0010\n",
      "Epoch 8/80\n",
      "248/248 [==============================] - ETA: 0s - loss: 0.1033"
     ]
    },
    {
     "name": "stderr",
     "output_type": "stream",
     "text": [
      "WARNING:absl:Found untraced functions such as gru_cell_1_layer_call_fn, gru_cell_1_layer_call_and_return_conditional_losses while saving (showing 2 of 2). These functions will not be directly callable after loading.\n"
     ]
    },
    {
     "name": "stdout",
     "output_type": "stream",
     "text": [
      "INFO:tensorflow:Assets written to: model_weights\\assets\n"
     ]
    },
    {
     "name": "stderr",
     "output_type": "stream",
     "text": [
      "INFO:tensorflow:Assets written to: model_weights\\assets\n"
     ]
    },
    {
     "name": "stdout",
     "output_type": "stream",
     "text": [
      "248/248 [==============================] - 9s 36ms/step - loss: 0.1033 - lr: 0.0010\n",
      "Epoch 9/80\n",
      "246/248 [============================>.] - ETA: 0s - loss: 0.0982"
     ]
    },
    {
     "name": "stderr",
     "output_type": "stream",
     "text": [
      "WARNING:absl:Found untraced functions such as gru_cell_1_layer_call_fn, gru_cell_1_layer_call_and_return_conditional_losses while saving (showing 2 of 2). These functions will not be directly callable after loading.\n"
     ]
    },
    {
     "name": "stdout",
     "output_type": "stream",
     "text": [
      "INFO:tensorflow:Assets written to: model_weights\\assets\n"
     ]
    },
    {
     "name": "stderr",
     "output_type": "stream",
     "text": [
      "INFO:tensorflow:Assets written to: model_weights\\assets\n"
     ]
    },
    {
     "name": "stdout",
     "output_type": "stream",
     "text": [
      "248/248 [==============================] - 9s 35ms/step - loss: 0.0981 - lr: 0.0010\n",
      "Epoch 10/80\n",
      "247/248 [============================>.] - ETA: 0s - loss: 0.0936"
     ]
    },
    {
     "name": "stderr",
     "output_type": "stream",
     "text": [
      "WARNING:absl:Found untraced functions such as gru_cell_1_layer_call_fn, gru_cell_1_layer_call_and_return_conditional_losses while saving (showing 2 of 2). These functions will not be directly callable after loading.\n"
     ]
    },
    {
     "name": "stdout",
     "output_type": "stream",
     "text": [
      "INFO:tensorflow:Assets written to: model_weights\\assets\n"
     ]
    },
    {
     "name": "stderr",
     "output_type": "stream",
     "text": [
      "INFO:tensorflow:Assets written to: model_weights\\assets\n"
     ]
    },
    {
     "name": "stdout",
     "output_type": "stream",
     "text": [
      "248/248 [==============================] - 9s 36ms/step - loss: 0.0936 - lr: 0.0010\n",
      "Epoch 11/80\n",
      "246/248 [============================>.] - ETA: 0s - loss: 0.0918"
     ]
    },
    {
     "name": "stderr",
     "output_type": "stream",
     "text": [
      "WARNING:absl:Found untraced functions such as gru_cell_1_layer_call_fn, gru_cell_1_layer_call_and_return_conditional_losses while saving (showing 2 of 2). These functions will not be directly callable after loading.\n"
     ]
    },
    {
     "name": "stdout",
     "output_type": "stream",
     "text": [
      "INFO:tensorflow:Assets written to: model_weights\\assets\n"
     ]
    },
    {
     "name": "stderr",
     "output_type": "stream",
     "text": [
      "INFO:tensorflow:Assets written to: model_weights\\assets\n"
     ]
    },
    {
     "name": "stdout",
     "output_type": "stream",
     "text": [
      "248/248 [==============================] - 9s 35ms/step - loss: 0.0918 - lr: 0.0010\n",
      "Epoch 12/80\n",
      "246/248 [============================>.] - ETA: 0s - loss: 0.0893"
     ]
    },
    {
     "name": "stderr",
     "output_type": "stream",
     "text": [
      "WARNING:absl:Found untraced functions such as gru_cell_1_layer_call_fn, gru_cell_1_layer_call_and_return_conditional_losses while saving (showing 2 of 2). These functions will not be directly callable after loading.\n"
     ]
    },
    {
     "name": "stdout",
     "output_type": "stream",
     "text": [
      "INFO:tensorflow:Assets written to: model_weights\\assets\n"
     ]
    },
    {
     "name": "stderr",
     "output_type": "stream",
     "text": [
      "INFO:tensorflow:Assets written to: model_weights\\assets\n"
     ]
    },
    {
     "name": "stdout",
     "output_type": "stream",
     "text": [
      "248/248 [==============================] - 9s 36ms/step - loss: 0.0892 - lr: 0.0010\n",
      "Epoch 13/80\n",
      "247/248 [============================>.] - ETA: 0s - loss: 0.0864"
     ]
    },
    {
     "name": "stderr",
     "output_type": "stream",
     "text": [
      "WARNING:absl:Found untraced functions such as gru_cell_1_layer_call_fn, gru_cell_1_layer_call_and_return_conditional_losses while saving (showing 2 of 2). These functions will not be directly callable after loading.\n"
     ]
    },
    {
     "name": "stdout",
     "output_type": "stream",
     "text": [
      "INFO:tensorflow:Assets written to: model_weights\\assets\n"
     ]
    },
    {
     "name": "stderr",
     "output_type": "stream",
     "text": [
      "INFO:tensorflow:Assets written to: model_weights\\assets\n"
     ]
    },
    {
     "name": "stdout",
     "output_type": "stream",
     "text": [
      "248/248 [==============================] - 9s 36ms/step - loss: 0.0864 - lr: 0.0010\n",
      "Epoch 14/80\n",
      "248/248 [==============================] - ETA: 0s - loss: 0.0850"
     ]
    },
    {
     "name": "stderr",
     "output_type": "stream",
     "text": [
      "WARNING:absl:Found untraced functions such as gru_cell_1_layer_call_fn, gru_cell_1_layer_call_and_return_conditional_losses while saving (showing 2 of 2). These functions will not be directly callable after loading.\n"
     ]
    },
    {
     "name": "stdout",
     "output_type": "stream",
     "text": [
      "INFO:tensorflow:Assets written to: model_weights\\assets\n"
     ]
    },
    {
     "name": "stderr",
     "output_type": "stream",
     "text": [
      "INFO:tensorflow:Assets written to: model_weights\\assets\n"
     ]
    },
    {
     "name": "stdout",
     "output_type": "stream",
     "text": [
      "248/248 [==============================] - 9s 35ms/step - loss: 0.0850 - lr: 0.0010\n",
      "Epoch 15/80\n",
      "248/248 [==============================] - ETA: 0s - loss: 0.0832\n",
      "Epoch 15: ReduceLROnPlateau reducing learning rate to 0.0005000000237487257.\n"
     ]
    },
    {
     "name": "stderr",
     "output_type": "stream",
     "text": [
      "WARNING:absl:Found untraced functions such as gru_cell_1_layer_call_fn, gru_cell_1_layer_call_and_return_conditional_losses while saving (showing 2 of 2). These functions will not be directly callable after loading.\n"
     ]
    },
    {
     "name": "stdout",
     "output_type": "stream",
     "text": [
      "INFO:tensorflow:Assets written to: model_weights\\assets\n"
     ]
    },
    {
     "name": "stderr",
     "output_type": "stream",
     "text": [
      "INFO:tensorflow:Assets written to: model_weights\\assets\n"
     ]
    },
    {
     "name": "stdout",
     "output_type": "stream",
     "text": [
      "248/248 [==============================] - 9s 36ms/step - loss: 0.0832 - lr: 0.0010\n",
      "Epoch 16/80\n",
      "248/248 [==============================] - ETA: 0s - loss: 0.0680"
     ]
    },
    {
     "name": "stderr",
     "output_type": "stream",
     "text": [
      "WARNING:absl:Found untraced functions such as gru_cell_1_layer_call_fn, gru_cell_1_layer_call_and_return_conditional_losses while saving (showing 2 of 2). These functions will not be directly callable after loading.\n"
     ]
    },
    {
     "name": "stdout",
     "output_type": "stream",
     "text": [
      "INFO:tensorflow:Assets written to: model_weights\\assets\n"
     ]
    },
    {
     "name": "stderr",
     "output_type": "stream",
     "text": [
      "INFO:tensorflow:Assets written to: model_weights\\assets\n"
     ]
    },
    {
     "name": "stdout",
     "output_type": "stream",
     "text": [
      "248/248 [==============================] - 9s 35ms/step - loss: 0.0680 - lr: 5.0000e-04\n",
      "Epoch 17/80\n",
      "247/248 [============================>.] - ETA: 0s - loss: 0.0646"
     ]
    },
    {
     "name": "stderr",
     "output_type": "stream",
     "text": [
      "WARNING:absl:Found untraced functions such as gru_cell_1_layer_call_fn, gru_cell_1_layer_call_and_return_conditional_losses while saving (showing 2 of 2). These functions will not be directly callable after loading.\n"
     ]
    },
    {
     "name": "stdout",
     "output_type": "stream",
     "text": [
      "INFO:tensorflow:Assets written to: model_weights\\assets\n"
     ]
    },
    {
     "name": "stderr",
     "output_type": "stream",
     "text": [
      "INFO:tensorflow:Assets written to: model_weights\\assets\n"
     ]
    },
    {
     "name": "stdout",
     "output_type": "stream",
     "text": [
      "248/248 [==============================] - 9s 36ms/step - loss: 0.0646 - lr: 5.0000e-04\n",
      "Epoch 18/80\n",
      "247/248 [============================>.] - ETA: 0s - loss: 0.0635"
     ]
    },
    {
     "name": "stderr",
     "output_type": "stream",
     "text": [
      "WARNING:absl:Found untraced functions such as gru_cell_1_layer_call_fn, gru_cell_1_layer_call_and_return_conditional_losses while saving (showing 2 of 2). These functions will not be directly callable after loading.\n"
     ]
    },
    {
     "name": "stdout",
     "output_type": "stream",
     "text": [
      "INFO:tensorflow:Assets written to: model_weights\\assets\n"
     ]
    },
    {
     "name": "stderr",
     "output_type": "stream",
     "text": [
      "INFO:tensorflow:Assets written to: model_weights\\assets\n"
     ]
    },
    {
     "name": "stdout",
     "output_type": "stream",
     "text": [
      "248/248 [==============================] - 9s 36ms/step - loss: 0.0635 - lr: 5.0000e-04\n",
      "Epoch 19/80\n",
      "248/248 [==============================] - ETA: 0s - loss: 0.0633\n",
      "Epoch 19: ReduceLROnPlateau reducing learning rate to 0.0002500000118743628.\n"
     ]
    },
    {
     "name": "stderr",
     "output_type": "stream",
     "text": [
      "WARNING:absl:Found untraced functions such as gru_cell_1_layer_call_fn, gru_cell_1_layer_call_and_return_conditional_losses while saving (showing 2 of 2). These functions will not be directly callable after loading.\n"
     ]
    },
    {
     "name": "stdout",
     "output_type": "stream",
     "text": [
      "INFO:tensorflow:Assets written to: model_weights\\assets\n"
     ]
    },
    {
     "name": "stderr",
     "output_type": "stream",
     "text": [
      "INFO:tensorflow:Assets written to: model_weights\\assets\n"
     ]
    },
    {
     "name": "stdout",
     "output_type": "stream",
     "text": [
      "248/248 [==============================] - 9s 35ms/step - loss: 0.0633 - lr: 5.0000e-04\n",
      "Epoch 20/80\n",
      "247/248 [============================>.] - ETA: 0s - loss: 0.0570"
     ]
    },
    {
     "name": "stderr",
     "output_type": "stream",
     "text": [
      "WARNING:absl:Found untraced functions such as gru_cell_1_layer_call_fn, gru_cell_1_layer_call_and_return_conditional_losses while saving (showing 2 of 2). These functions will not be directly callable after loading.\n"
     ]
    },
    {
     "name": "stdout",
     "output_type": "stream",
     "text": [
      "INFO:tensorflow:Assets written to: model_weights\\assets\n"
     ]
    },
    {
     "name": "stderr",
     "output_type": "stream",
     "text": [
      "INFO:tensorflow:Assets written to: model_weights\\assets\n"
     ]
    },
    {
     "name": "stdout",
     "output_type": "stream",
     "text": [
      "248/248 [==============================] - 9s 36ms/step - loss: 0.0570 - lr: 2.5000e-04\n",
      "Epoch 21/80\n",
      "247/248 [============================>.] - ETA: 0s - loss: 0.0555"
     ]
    },
    {
     "name": "stderr",
     "output_type": "stream",
     "text": [
      "WARNING:absl:Found untraced functions such as gru_cell_1_layer_call_fn, gru_cell_1_layer_call_and_return_conditional_losses while saving (showing 2 of 2). These functions will not be directly callable after loading.\n"
     ]
    },
    {
     "name": "stdout",
     "output_type": "stream",
     "text": [
      "INFO:tensorflow:Assets written to: model_weights\\assets\n"
     ]
    },
    {
     "name": "stderr",
     "output_type": "stream",
     "text": [
      "INFO:tensorflow:Assets written to: model_weights\\assets\n"
     ]
    },
    {
     "name": "stdout",
     "output_type": "stream",
     "text": [
      "248/248 [==============================] - 9s 35ms/step - loss: 0.0555 - lr: 2.5000e-04\n",
      "Epoch 22/80\n",
      "246/248 [============================>.] - ETA: 0s - loss: 0.0553"
     ]
    },
    {
     "name": "stderr",
     "output_type": "stream",
     "text": [
      "WARNING:absl:Found untraced functions such as gru_cell_1_layer_call_fn, gru_cell_1_layer_call_and_return_conditional_losses while saving (showing 2 of 2). These functions will not be directly callable after loading.\n"
     ]
    },
    {
     "name": "stdout",
     "output_type": "stream",
     "text": [
      "INFO:tensorflow:Assets written to: model_weights\\assets\n"
     ]
    },
    {
     "name": "stderr",
     "output_type": "stream",
     "text": [
      "INFO:tensorflow:Assets written to: model_weights\\assets\n"
     ]
    },
    {
     "name": "stdout",
     "output_type": "stream",
     "text": [
      "248/248 [==============================] - 9s 36ms/step - loss: 0.0553 - lr: 2.5000e-04\n",
      "Epoch 23/80\n",
      "246/248 [============================>.] - ETA: 0s - loss: 0.0552\n",
      "Epoch 23: ReduceLROnPlateau reducing learning rate to 0.0001250000059371814.\n"
     ]
    },
    {
     "name": "stderr",
     "output_type": "stream",
     "text": [
      "WARNING:absl:Found untraced functions such as gru_cell_1_layer_call_fn, gru_cell_1_layer_call_and_return_conditional_losses while saving (showing 2 of 2). These functions will not be directly callable after loading.\n"
     ]
    },
    {
     "name": "stdout",
     "output_type": "stream",
     "text": [
      "INFO:tensorflow:Assets written to: model_weights\\assets\n"
     ]
    },
    {
     "name": "stderr",
     "output_type": "stream",
     "text": [
      "INFO:tensorflow:Assets written to: model_weights\\assets\n"
     ]
    },
    {
     "name": "stdout",
     "output_type": "stream",
     "text": [
      "248/248 [==============================] - 9s 35ms/step - loss: 0.0553 - lr: 2.5000e-04\n",
      "Epoch 24/80\n",
      "246/248 [============================>.] - ETA: 0s - loss: 0.0519"
     ]
    },
    {
     "name": "stderr",
     "output_type": "stream",
     "text": [
      "WARNING:absl:Found untraced functions such as gru_cell_1_layer_call_fn, gru_cell_1_layer_call_and_return_conditional_losses while saving (showing 2 of 2). These functions will not be directly callable after loading.\n"
     ]
    },
    {
     "name": "stdout",
     "output_type": "stream",
     "text": [
      "INFO:tensorflow:Assets written to: model_weights\\assets\n"
     ]
    },
    {
     "name": "stderr",
     "output_type": "stream",
     "text": [
      "INFO:tensorflow:Assets written to: model_weights\\assets\n"
     ]
    },
    {
     "name": "stdout",
     "output_type": "stream",
     "text": [
      "248/248 [==============================] - 9s 36ms/step - loss: 0.0519 - lr: 1.2500e-04\n",
      "Epoch 25/80\n",
      "248/248 [==============================] - ETA: 0s - loss: 0.0510"
     ]
    },
    {
     "name": "stderr",
     "output_type": "stream",
     "text": [
      "WARNING:absl:Found untraced functions such as gru_cell_1_layer_call_fn, gru_cell_1_layer_call_and_return_conditional_losses while saving (showing 2 of 2). These functions will not be directly callable after loading.\n"
     ]
    },
    {
     "name": "stdout",
     "output_type": "stream",
     "text": [
      "INFO:tensorflow:Assets written to: model_weights\\assets\n"
     ]
    },
    {
     "name": "stderr",
     "output_type": "stream",
     "text": [
      "INFO:tensorflow:Assets written to: model_weights\\assets\n"
     ]
    },
    {
     "name": "stdout",
     "output_type": "stream",
     "text": [
      "248/248 [==============================] - 9s 36ms/step - loss: 0.0510 - lr: 1.2500e-04\n",
      "Epoch 26/80\n",
      "246/248 [============================>.] - ETA: 0s - loss: 0.0507"
     ]
    },
    {
     "name": "stderr",
     "output_type": "stream",
     "text": [
      "WARNING:absl:Found untraced functions such as gru_cell_1_layer_call_fn, gru_cell_1_layer_call_and_return_conditional_losses while saving (showing 2 of 2). These functions will not be directly callable after loading.\n"
     ]
    },
    {
     "name": "stdout",
     "output_type": "stream",
     "text": [
      "INFO:tensorflow:Assets written to: model_weights\\assets\n"
     ]
    },
    {
     "name": "stderr",
     "output_type": "stream",
     "text": [
      "INFO:tensorflow:Assets written to: model_weights\\assets\n"
     ]
    },
    {
     "name": "stdout",
     "output_type": "stream",
     "text": [
      "248/248 [==============================] - 9s 35ms/step - loss: 0.0507 - lr: 1.2500e-04\n",
      "Epoch 27/80\n",
      "246/248 [============================>.] - ETA: 0s - loss: 0.0505\n",
      "Epoch 27: ReduceLROnPlateau reducing learning rate to 6.25000029685907e-05.\n"
     ]
    },
    {
     "name": "stderr",
     "output_type": "stream",
     "text": [
      "WARNING:absl:Found untraced functions such as gru_cell_1_layer_call_fn, gru_cell_1_layer_call_and_return_conditional_losses while saving (showing 2 of 2). These functions will not be directly callable after loading.\n"
     ]
    },
    {
     "name": "stdout",
     "output_type": "stream",
     "text": [
      "INFO:tensorflow:Assets written to: model_weights\\assets\n"
     ]
    },
    {
     "name": "stderr",
     "output_type": "stream",
     "text": [
      "INFO:tensorflow:Assets written to: model_weights\\assets\n"
     ]
    },
    {
     "name": "stdout",
     "output_type": "stream",
     "text": [
      "248/248 [==============================] - 9s 36ms/step - loss: 0.0505 - lr: 1.2500e-04\n",
      "Epoch 28/80\n",
      "248/248 [==============================] - ETA: 0s - loss: 0.0485"
     ]
    },
    {
     "name": "stderr",
     "output_type": "stream",
     "text": [
      "WARNING:absl:Found untraced functions such as gru_cell_1_layer_call_fn, gru_cell_1_layer_call_and_return_conditional_losses while saving (showing 2 of 2). These functions will not be directly callable after loading.\n"
     ]
    },
    {
     "name": "stdout",
     "output_type": "stream",
     "text": [
      "INFO:tensorflow:Assets written to: model_weights\\assets\n"
     ]
    },
    {
     "name": "stderr",
     "output_type": "stream",
     "text": [
      "INFO:tensorflow:Assets written to: model_weights\\assets\n"
     ]
    },
    {
     "name": "stdout",
     "output_type": "stream",
     "text": [
      "248/248 [==============================] - 9s 36ms/step - loss: 0.0486 - lr: 6.2500e-05\n",
      "Epoch 29/80\n",
      "247/248 [============================>.] - ETA: 0s - loss: 0.0480"
     ]
    },
    {
     "name": "stderr",
     "output_type": "stream",
     "text": [
      "WARNING:absl:Found untraced functions such as gru_cell_1_layer_call_fn, gru_cell_1_layer_call_and_return_conditional_losses while saving (showing 2 of 2). These functions will not be directly callable after loading.\n"
     ]
    },
    {
     "name": "stdout",
     "output_type": "stream",
     "text": [
      "INFO:tensorflow:Assets written to: model_weights\\assets\n"
     ]
    },
    {
     "name": "stderr",
     "output_type": "stream",
     "text": [
      "INFO:tensorflow:Assets written to: model_weights\\assets\n"
     ]
    },
    {
     "name": "stdout",
     "output_type": "stream",
     "text": [
      "248/248 [==============================] - 9s 37ms/step - loss: 0.0480 - lr: 6.2500e-05\n",
      "Epoch 30/80\n",
      "247/248 [============================>.] - ETA: 0s - loss: 0.0478"
     ]
    },
    {
     "name": "stderr",
     "output_type": "stream",
     "text": [
      "WARNING:absl:Found untraced functions such as gru_cell_1_layer_call_fn, gru_cell_1_layer_call_and_return_conditional_losses while saving (showing 2 of 2). These functions will not be directly callable after loading.\n"
     ]
    },
    {
     "name": "stdout",
     "output_type": "stream",
     "text": [
      "INFO:tensorflow:Assets written to: model_weights\\assets\n"
     ]
    },
    {
     "name": "stderr",
     "output_type": "stream",
     "text": [
      "INFO:tensorflow:Assets written to: model_weights\\assets\n"
     ]
    },
    {
     "name": "stdout",
     "output_type": "stream",
     "text": [
      "248/248 [==============================] - 9s 35ms/step - loss: 0.0478 - lr: 6.2500e-05\n",
      "Epoch 31/80\n",
      "246/248 [============================>.] - ETA: 0s - loss: 0.0476"
     ]
    },
    {
     "name": "stderr",
     "output_type": "stream",
     "text": [
      "WARNING:absl:Found untraced functions such as gru_cell_1_layer_call_fn, gru_cell_1_layer_call_and_return_conditional_losses while saving (showing 2 of 2). These functions will not be directly callable after loading.\n"
     ]
    },
    {
     "name": "stdout",
     "output_type": "stream",
     "text": [
      "INFO:tensorflow:Assets written to: model_weights\\assets\n"
     ]
    },
    {
     "name": "stderr",
     "output_type": "stream",
     "text": [
      "INFO:tensorflow:Assets written to: model_weights\\assets\n"
     ]
    },
    {
     "name": "stdout",
     "output_type": "stream",
     "text": [
      "248/248 [==============================] - 9s 37ms/step - loss: 0.0476 - lr: 6.2500e-05\n",
      "Epoch 32/80\n",
      "248/248 [==============================] - ETA: 0s - loss: 0.0474\n",
      "Epoch 32: ReduceLROnPlateau reducing learning rate to 3.125000148429535e-05.\n"
     ]
    },
    {
     "name": "stderr",
     "output_type": "stream",
     "text": [
      "WARNING:absl:Found untraced functions such as gru_cell_1_layer_call_fn, gru_cell_1_layer_call_and_return_conditional_losses while saving (showing 2 of 2). These functions will not be directly callable after loading.\n"
     ]
    },
    {
     "name": "stdout",
     "output_type": "stream",
     "text": [
      "INFO:tensorflow:Assets written to: model_weights\\assets\n"
     ]
    },
    {
     "name": "stderr",
     "output_type": "stream",
     "text": [
      "INFO:tensorflow:Assets written to: model_weights\\assets\n"
     ]
    },
    {
     "name": "stdout",
     "output_type": "stream",
     "text": [
      "248/248 [==============================] - 9s 36ms/step - loss: 0.0474 - lr: 6.2500e-05\n",
      "Epoch 33/80\n",
      "248/248 [==============================] - ETA: 0s - loss: 0.0462"
     ]
    },
    {
     "name": "stderr",
     "output_type": "stream",
     "text": [
      "WARNING:absl:Found untraced functions such as gru_cell_1_layer_call_fn, gru_cell_1_layer_call_and_return_conditional_losses while saving (showing 2 of 2). These functions will not be directly callable after loading.\n"
     ]
    },
    {
     "name": "stdout",
     "output_type": "stream",
     "text": [
      "INFO:tensorflow:Assets written to: model_weights\\assets\n"
     ]
    },
    {
     "name": "stderr",
     "output_type": "stream",
     "text": [
      "INFO:tensorflow:Assets written to: model_weights\\assets\n"
     ]
    },
    {
     "name": "stdout",
     "output_type": "stream",
     "text": [
      "248/248 [==============================] - 9s 35ms/step - loss: 0.0462 - lr: 3.1250e-05\n",
      "Epoch 34/80\n",
      "247/248 [============================>.] - ETA: 0s - loss: 0.0459"
     ]
    },
    {
     "name": "stderr",
     "output_type": "stream",
     "text": [
      "WARNING:absl:Found untraced functions such as gru_cell_1_layer_call_fn, gru_cell_1_layer_call_and_return_conditional_losses while saving (showing 2 of 2). These functions will not be directly callable after loading.\n"
     ]
    },
    {
     "name": "stdout",
     "output_type": "stream",
     "text": [
      "INFO:tensorflow:Assets written to: model_weights\\assets\n"
     ]
    },
    {
     "name": "stderr",
     "output_type": "stream",
     "text": [
      "INFO:tensorflow:Assets written to: model_weights\\assets\n"
     ]
    },
    {
     "name": "stdout",
     "output_type": "stream",
     "text": [
      "248/248 [==============================] - 9s 36ms/step - loss: 0.0459 - lr: 3.1250e-05\n",
      "Epoch 35/80\n",
      "248/248 [==============================] - ETA: 0s - loss: 0.0457"
     ]
    },
    {
     "name": "stderr",
     "output_type": "stream",
     "text": [
      "WARNING:absl:Found untraced functions such as gru_cell_1_layer_call_fn, gru_cell_1_layer_call_and_return_conditional_losses while saving (showing 2 of 2). These functions will not be directly callable after loading.\n"
     ]
    },
    {
     "name": "stdout",
     "output_type": "stream",
     "text": [
      "INFO:tensorflow:Assets written to: model_weights\\assets\n"
     ]
    },
    {
     "name": "stderr",
     "output_type": "stream",
     "text": [
      "INFO:tensorflow:Assets written to: model_weights\\assets\n"
     ]
    },
    {
     "name": "stdout",
     "output_type": "stream",
     "text": [
      "248/248 [==============================] - 9s 35ms/step - loss: 0.0457 - lr: 3.1250e-05\n",
      "Epoch 36/80\n",
      "248/248 [==============================] - ETA: 0s - loss: 0.0456"
     ]
    },
    {
     "name": "stderr",
     "output_type": "stream",
     "text": [
      "WARNING:absl:Found untraced functions such as gru_cell_1_layer_call_fn, gru_cell_1_layer_call_and_return_conditional_losses while saving (showing 2 of 2). These functions will not be directly callable after loading.\n"
     ]
    },
    {
     "name": "stdout",
     "output_type": "stream",
     "text": [
      "INFO:tensorflow:Assets written to: model_weights\\assets\n"
     ]
    },
    {
     "name": "stderr",
     "output_type": "stream",
     "text": [
      "INFO:tensorflow:Assets written to: model_weights\\assets\n"
     ]
    },
    {
     "name": "stdout",
     "output_type": "stream",
     "text": [
      "248/248 [==============================] - 9s 36ms/step - loss: 0.0456 - lr: 3.1250e-05\n",
      "Epoch 37/80\n",
      "246/248 [============================>.] - ETA: 0s - loss: 0.0454"
     ]
    },
    {
     "name": "stderr",
     "output_type": "stream",
     "text": [
      "WARNING:absl:Found untraced functions such as gru_cell_1_layer_call_fn, gru_cell_1_layer_call_and_return_conditional_losses while saving (showing 2 of 2). These functions will not be directly callable after loading.\n"
     ]
    },
    {
     "name": "stdout",
     "output_type": "stream",
     "text": [
      "INFO:tensorflow:Assets written to: model_weights\\assets\n"
     ]
    },
    {
     "name": "stderr",
     "output_type": "stream",
     "text": [
      "INFO:tensorflow:Assets written to: model_weights\\assets\n"
     ]
    },
    {
     "name": "stdout",
     "output_type": "stream",
     "text": [
      "248/248 [==============================] - 9s 35ms/step - loss: 0.0454 - lr: 3.1250e-05\n",
      "Epoch 38/80\n",
      "247/248 [============================>.] - ETA: 0s - loss: 0.0453\n",
      "Epoch 38: ReduceLROnPlateau reducing learning rate to 1.5625000742147677e-05.\n"
     ]
    },
    {
     "name": "stderr",
     "output_type": "stream",
     "text": [
      "WARNING:absl:Found untraced functions such as gru_cell_1_layer_call_fn, gru_cell_1_layer_call_and_return_conditional_losses while saving (showing 2 of 2). These functions will not be directly callable after loading.\n"
     ]
    },
    {
     "name": "stdout",
     "output_type": "stream",
     "text": [
      "INFO:tensorflow:Assets written to: model_weights\\assets\n"
     ]
    },
    {
     "name": "stderr",
     "output_type": "stream",
     "text": [
      "INFO:tensorflow:Assets written to: model_weights\\assets\n"
     ]
    },
    {
     "name": "stdout",
     "output_type": "stream",
     "text": [
      "248/248 [==============================] - 9s 36ms/step - loss: 0.0453 - lr: 3.1250e-05\n",
      "Epoch 39/80\n",
      "248/248 [==============================] - ETA: 0s - loss: 0.0445"
     ]
    },
    {
     "name": "stderr",
     "output_type": "stream",
     "text": [
      "WARNING:absl:Found untraced functions such as gru_cell_1_layer_call_fn, gru_cell_1_layer_call_and_return_conditional_losses while saving (showing 2 of 2). These functions will not be directly callable after loading.\n"
     ]
    },
    {
     "name": "stdout",
     "output_type": "stream",
     "text": [
      "INFO:tensorflow:Assets written to: model_weights\\assets\n"
     ]
    },
    {
     "name": "stderr",
     "output_type": "stream",
     "text": [
      "INFO:tensorflow:Assets written to: model_weights\\assets\n"
     ]
    },
    {
     "name": "stdout",
     "output_type": "stream",
     "text": [
      "248/248 [==============================] - 9s 36ms/step - loss: 0.0445 - lr: 1.5625e-05\n",
      "Epoch 40/80\n",
      "246/248 [============================>.] - ETA: 0s - loss: 0.0444"
     ]
    },
    {
     "name": "stderr",
     "output_type": "stream",
     "text": [
      "WARNING:absl:Found untraced functions such as gru_cell_1_layer_call_fn, gru_cell_1_layer_call_and_return_conditional_losses while saving (showing 2 of 2). These functions will not be directly callable after loading.\n"
     ]
    },
    {
     "name": "stdout",
     "output_type": "stream",
     "text": [
      "INFO:tensorflow:Assets written to: model_weights\\assets\n"
     ]
    },
    {
     "name": "stderr",
     "output_type": "stream",
     "text": [
      "INFO:tensorflow:Assets written to: model_weights\\assets\n"
     ]
    },
    {
     "name": "stdout",
     "output_type": "stream",
     "text": [
      "248/248 [==============================] - 9s 35ms/step - loss: 0.0443 - lr: 1.5625e-05\n",
      "Epoch 41/80\n",
      "248/248 [==============================] - ETA: 0s - loss: 0.0443"
     ]
    },
    {
     "name": "stderr",
     "output_type": "stream",
     "text": [
      "WARNING:absl:Found untraced functions such as gru_cell_1_layer_call_fn, gru_cell_1_layer_call_and_return_conditional_losses while saving (showing 2 of 2). These functions will not be directly callable after loading.\n"
     ]
    },
    {
     "name": "stdout",
     "output_type": "stream",
     "text": [
      "INFO:tensorflow:Assets written to: model_weights\\assets\n"
     ]
    },
    {
     "name": "stderr",
     "output_type": "stream",
     "text": [
      "INFO:tensorflow:Assets written to: model_weights\\assets\n"
     ]
    },
    {
     "name": "stdout",
     "output_type": "stream",
     "text": [
      "248/248 [==============================] - 9s 36ms/step - loss: 0.0443 - lr: 1.5625e-05\n",
      "Epoch 42/80\n",
      "246/248 [============================>.] - ETA: 0s - loss: 0.0442"
     ]
    },
    {
     "name": "stderr",
     "output_type": "stream",
     "text": [
      "WARNING:absl:Found untraced functions such as gru_cell_1_layer_call_fn, gru_cell_1_layer_call_and_return_conditional_losses while saving (showing 2 of 2). These functions will not be directly callable after loading.\n"
     ]
    },
    {
     "name": "stdout",
     "output_type": "stream",
     "text": [
      "INFO:tensorflow:Assets written to: model_weights\\assets\n"
     ]
    },
    {
     "name": "stderr",
     "output_type": "stream",
     "text": [
      "INFO:tensorflow:Assets written to: model_weights\\assets\n"
     ]
    },
    {
     "name": "stdout",
     "output_type": "stream",
     "text": [
      "248/248 [==============================] - 9s 35ms/step - loss: 0.0442 - lr: 1.5625e-05\n",
      "Epoch 43/80\n",
      "248/248 [==============================] - ETA: 0s - loss: 0.0441\n",
      "Epoch 43: ReduceLROnPlateau reducing learning rate to 7.812500371073838e-06.\n"
     ]
    },
    {
     "name": "stderr",
     "output_type": "stream",
     "text": [
      "WARNING:absl:Found untraced functions such as gru_cell_1_layer_call_fn, gru_cell_1_layer_call_and_return_conditional_losses while saving (showing 2 of 2). These functions will not be directly callable after loading.\n"
     ]
    },
    {
     "name": "stdout",
     "output_type": "stream",
     "text": [
      "INFO:tensorflow:Assets written to: model_weights\\assets\n"
     ]
    },
    {
     "name": "stderr",
     "output_type": "stream",
     "text": [
      "INFO:tensorflow:Assets written to: model_weights\\assets\n"
     ]
    },
    {
     "name": "stdout",
     "output_type": "stream",
     "text": [
      "248/248 [==============================] - 9s 36ms/step - loss: 0.0441 - lr: 1.5625e-05\n",
      "Epoch 44/80\n",
      "246/248 [============================>.] - ETA: 0s - loss: 0.0437"
     ]
    },
    {
     "name": "stderr",
     "output_type": "stream",
     "text": [
      "WARNING:absl:Found untraced functions such as gru_cell_1_layer_call_fn, gru_cell_1_layer_call_and_return_conditional_losses while saving (showing 2 of 2). These functions will not be directly callable after loading.\n"
     ]
    },
    {
     "name": "stdout",
     "output_type": "stream",
     "text": [
      "INFO:tensorflow:Assets written to: model_weights\\assets\n"
     ]
    },
    {
     "name": "stderr",
     "output_type": "stream",
     "text": [
      "INFO:tensorflow:Assets written to: model_weights\\assets\n"
     ]
    },
    {
     "name": "stdout",
     "output_type": "stream",
     "text": [
      "248/248 [==============================] - 9s 35ms/step - loss: 0.0436 - lr: 7.8125e-06\n",
      "Epoch 45/80\n",
      "246/248 [============================>.] - ETA: 0s - loss: 0.0436"
     ]
    },
    {
     "name": "stderr",
     "output_type": "stream",
     "text": [
      "WARNING:absl:Found untraced functions such as gru_cell_1_layer_call_fn, gru_cell_1_layer_call_and_return_conditional_losses while saving (showing 2 of 2). These functions will not be directly callable after loading.\n"
     ]
    },
    {
     "name": "stdout",
     "output_type": "stream",
     "text": [
      "INFO:tensorflow:Assets written to: model_weights\\assets\n"
     ]
    },
    {
     "name": "stderr",
     "output_type": "stream",
     "text": [
      "INFO:tensorflow:Assets written to: model_weights\\assets\n"
     ]
    },
    {
     "name": "stdout",
     "output_type": "stream",
     "text": [
      "248/248 [==============================] - 9s 36ms/step - loss: 0.0436 - lr: 7.8125e-06\n",
      "Epoch 46/80\n",
      "246/248 [============================>.] - ETA: 0s - loss: 0.0435\n",
      "Epoch 46: ReduceLROnPlateau reducing learning rate to 3.906250185536919e-06.\n"
     ]
    },
    {
     "name": "stderr",
     "output_type": "stream",
     "text": [
      "WARNING:absl:Found untraced functions such as gru_cell_1_layer_call_fn, gru_cell_1_layer_call_and_return_conditional_losses while saving (showing 2 of 2). These functions will not be directly callable after loading.\n"
     ]
    },
    {
     "name": "stdout",
     "output_type": "stream",
     "text": [
      "INFO:tensorflow:Assets written to: model_weights\\assets\n"
     ]
    },
    {
     "name": "stderr",
     "output_type": "stream",
     "text": [
      "INFO:tensorflow:Assets written to: model_weights\\assets\n"
     ]
    },
    {
     "name": "stdout",
     "output_type": "stream",
     "text": [
      "248/248 [==============================] - 9s 35ms/step - loss: 0.0435 - lr: 7.8125e-06\n",
      "Epoch 47/80\n",
      "246/248 [============================>.] - ETA: 0s - loss: 0.0433"
     ]
    },
    {
     "name": "stderr",
     "output_type": "stream",
     "text": [
      "WARNING:absl:Found untraced functions such as gru_cell_1_layer_call_fn, gru_cell_1_layer_call_and_return_conditional_losses while saving (showing 2 of 2). These functions will not be directly callable after loading.\n"
     ]
    },
    {
     "name": "stdout",
     "output_type": "stream",
     "text": [
      "INFO:tensorflow:Assets written to: model_weights\\assets\n"
     ]
    },
    {
     "name": "stderr",
     "output_type": "stream",
     "text": [
      "INFO:tensorflow:Assets written to: model_weights\\assets\n"
     ]
    },
    {
     "name": "stdout",
     "output_type": "stream",
     "text": [
      "248/248 [==============================] - 9s 35ms/step - loss: 0.0433 - lr: 3.9063e-06\n",
      "Epoch 48/80\n",
      "247/248 [============================>.] - ETA: 0s - loss: 0.0433"
     ]
    },
    {
     "name": "stderr",
     "output_type": "stream",
     "text": [
      "WARNING:absl:Found untraced functions such as gru_cell_1_layer_call_fn, gru_cell_1_layer_call_and_return_conditional_losses while saving (showing 2 of 2). These functions will not be directly callable after loading.\n"
     ]
    },
    {
     "name": "stdout",
     "output_type": "stream",
     "text": [
      "INFO:tensorflow:Assets written to: model_weights\\assets\n"
     ]
    },
    {
     "name": "stderr",
     "output_type": "stream",
     "text": [
      "INFO:tensorflow:Assets written to: model_weights\\assets\n"
     ]
    },
    {
     "name": "stdout",
     "output_type": "stream",
     "text": [
      "248/248 [==============================] - 9s 36ms/step - loss: 0.0432 - lr: 3.9063e-06\n",
      "Epoch 49/80\n",
      "248/248 [==============================] - ETA: 0s - loss: 0.0432\n",
      "Epoch 49: ReduceLROnPlateau reducing learning rate to 1.9531250927684596e-06.\n"
     ]
    },
    {
     "name": "stderr",
     "output_type": "stream",
     "text": [
      "WARNING:absl:Found untraced functions such as gru_cell_1_layer_call_fn, gru_cell_1_layer_call_and_return_conditional_losses while saving (showing 2 of 2). These functions will not be directly callable after loading.\n"
     ]
    },
    {
     "name": "stdout",
     "output_type": "stream",
     "text": [
      "INFO:tensorflow:Assets written to: model_weights\\assets\n"
     ]
    },
    {
     "name": "stderr",
     "output_type": "stream",
     "text": [
      "INFO:tensorflow:Assets written to: model_weights\\assets\n"
     ]
    },
    {
     "name": "stdout",
     "output_type": "stream",
     "text": [
      "248/248 [==============================] - 9s 37ms/step - loss: 0.0432 - lr: 3.9063e-06\n",
      "Epoch 50/80\n",
      "247/248 [============================>.] - ETA: 0s - loss: 0.0431"
     ]
    },
    {
     "name": "stderr",
     "output_type": "stream",
     "text": [
      "WARNING:absl:Found untraced functions such as gru_cell_1_layer_call_fn, gru_cell_1_layer_call_and_return_conditional_losses while saving (showing 2 of 2). These functions will not be directly callable after loading.\n"
     ]
    },
    {
     "name": "stdout",
     "output_type": "stream",
     "text": [
      "INFO:tensorflow:Assets written to: model_weights\\assets\n"
     ]
    },
    {
     "name": "stderr",
     "output_type": "stream",
     "text": [
      "INFO:tensorflow:Assets written to: model_weights\\assets\n"
     ]
    },
    {
     "name": "stdout",
     "output_type": "stream",
     "text": [
      "248/248 [==============================] - 9s 36ms/step - loss: 0.0431 - lr: 1.9531e-06\n",
      "Epoch 51/80\n",
      "247/248 [============================>.] - ETA: 0s - loss: 0.0431"
     ]
    },
    {
     "name": "stderr",
     "output_type": "stream",
     "text": [
      "WARNING:absl:Found untraced functions such as gru_cell_1_layer_call_fn, gru_cell_1_layer_call_and_return_conditional_losses while saving (showing 2 of 2). These functions will not be directly callable after loading.\n"
     ]
    },
    {
     "name": "stdout",
     "output_type": "stream",
     "text": [
      "INFO:tensorflow:Assets written to: model_weights\\assets\n"
     ]
    },
    {
     "name": "stderr",
     "output_type": "stream",
     "text": [
      "INFO:tensorflow:Assets written to: model_weights\\assets\n"
     ]
    },
    {
     "name": "stdout",
     "output_type": "stream",
     "text": [
      "248/248 [==============================] - 9s 37ms/step - loss: 0.0431 - lr: 1.9531e-06\n",
      "Epoch 52/80\n",
      "248/248 [==============================] - ETA: 0s - loss: 0.0431\n",
      "Epoch 52: ReduceLROnPlateau reducing learning rate to 9.765625463842298e-07.\n"
     ]
    },
    {
     "name": "stderr",
     "output_type": "stream",
     "text": [
      "WARNING:absl:Found untraced functions such as gru_cell_1_layer_call_fn, gru_cell_1_layer_call_and_return_conditional_losses while saving (showing 2 of 2). These functions will not be directly callable after loading.\n"
     ]
    },
    {
     "name": "stdout",
     "output_type": "stream",
     "text": [
      "INFO:tensorflow:Assets written to: model_weights\\assets\n"
     ]
    },
    {
     "name": "stderr",
     "output_type": "stream",
     "text": [
      "INFO:tensorflow:Assets written to: model_weights\\assets\n"
     ]
    },
    {
     "name": "stdout",
     "output_type": "stream",
     "text": [
      "248/248 [==============================] - 9s 35ms/step - loss: 0.0431 - lr: 1.9531e-06\n",
      "Epoch 53/80\n",
      "248/248 [==============================] - ETA: 0s - loss: 0.0430"
     ]
    },
    {
     "name": "stderr",
     "output_type": "stream",
     "text": [
      "WARNING:absl:Found untraced functions such as gru_cell_1_layer_call_fn, gru_cell_1_layer_call_and_return_conditional_losses while saving (showing 2 of 2). These functions will not be directly callable after loading.\n"
     ]
    },
    {
     "name": "stdout",
     "output_type": "stream",
     "text": [
      "INFO:tensorflow:Assets written to: model_weights\\assets\n"
     ]
    },
    {
     "name": "stderr",
     "output_type": "stream",
     "text": [
      "INFO:tensorflow:Assets written to: model_weights\\assets\n"
     ]
    },
    {
     "name": "stdout",
     "output_type": "stream",
     "text": [
      "248/248 [==============================] - 9s 36ms/step - loss: 0.0430 - lr: 9.7656e-07\n",
      "Epoch 54/80\n",
      "246/248 [============================>.] - ETA: 0s - loss: 0.0430"
     ]
    },
    {
     "name": "stderr",
     "output_type": "stream",
     "text": [
      "WARNING:absl:Found untraced functions such as gru_cell_1_layer_call_fn, gru_cell_1_layer_call_and_return_conditional_losses while saving (showing 2 of 2). These functions will not be directly callable after loading.\n"
     ]
    },
    {
     "name": "stdout",
     "output_type": "stream",
     "text": [
      "INFO:tensorflow:Assets written to: model_weights\\assets\n"
     ]
    },
    {
     "name": "stderr",
     "output_type": "stream",
     "text": [
      "INFO:tensorflow:Assets written to: model_weights\\assets\n"
     ]
    },
    {
     "name": "stdout",
     "output_type": "stream",
     "text": [
      "248/248 [==============================] - 9s 35ms/step - loss: 0.0430 - lr: 9.7656e-07\n",
      "Epoch 55/80\n",
      "248/248 [==============================] - ETA: 0s - loss: 0.0430\n",
      "Epoch 55: ReduceLROnPlateau reducing learning rate to 4.882812731921149e-07.\n"
     ]
    },
    {
     "name": "stderr",
     "output_type": "stream",
     "text": [
      "WARNING:absl:Found untraced functions such as gru_cell_1_layer_call_fn, gru_cell_1_layer_call_and_return_conditional_losses while saving (showing 2 of 2). These functions will not be directly callable after loading.\n"
     ]
    },
    {
     "name": "stdout",
     "output_type": "stream",
     "text": [
      "INFO:tensorflow:Assets written to: model_weights\\assets\n"
     ]
    },
    {
     "name": "stderr",
     "output_type": "stream",
     "text": [
      "INFO:tensorflow:Assets written to: model_weights\\assets\n"
     ]
    },
    {
     "name": "stdout",
     "output_type": "stream",
     "text": [
      "248/248 [==============================] - 9s 36ms/step - loss: 0.0430 - lr: 9.7656e-07\n",
      "Epoch 56/80\n",
      "247/248 [============================>.] - ETA: 0s - loss: 0.0430"
     ]
    },
    {
     "name": "stderr",
     "output_type": "stream",
     "text": [
      "WARNING:absl:Found untraced functions such as gru_cell_1_layer_call_fn, gru_cell_1_layer_call_and_return_conditional_losses while saving (showing 2 of 2). These functions will not be directly callable after loading.\n"
     ]
    },
    {
     "name": "stdout",
     "output_type": "stream",
     "text": [
      "INFO:tensorflow:Assets written to: model_weights\\assets\n"
     ]
    },
    {
     "name": "stderr",
     "output_type": "stream",
     "text": [
      "INFO:tensorflow:Assets written to: model_weights\\assets\n"
     ]
    },
    {
     "name": "stdout",
     "output_type": "stream",
     "text": [
      "248/248 [==============================] - 9s 36ms/step - loss: 0.0430 - lr: 4.8828e-07\n",
      "Epoch 57/80\n",
      "247/248 [============================>.] - ETA: 0s - loss: 0.0429"
     ]
    },
    {
     "name": "stderr",
     "output_type": "stream",
     "text": [
      "WARNING:absl:Found untraced functions such as gru_cell_1_layer_call_fn, gru_cell_1_layer_call_and_return_conditional_losses while saving (showing 2 of 2). These functions will not be directly callable after loading.\n"
     ]
    },
    {
     "name": "stdout",
     "output_type": "stream",
     "text": [
      "INFO:tensorflow:Assets written to: model_weights\\assets\n"
     ]
    },
    {
     "name": "stderr",
     "output_type": "stream",
     "text": [
      "INFO:tensorflow:Assets written to: model_weights\\assets\n"
     ]
    },
    {
     "name": "stdout",
     "output_type": "stream",
     "text": [
      "248/248 [==============================] - 9s 35ms/step - loss: 0.0430 - lr: 4.8828e-07\n",
      "Epoch 58/80\n",
      "248/248 [==============================] - ETA: 0s - loss: 0.0430\n",
      "Epoch 58: ReduceLROnPlateau reducing learning rate to 2.4414063659605745e-07.\n"
     ]
    },
    {
     "name": "stderr",
     "output_type": "stream",
     "text": [
      "WARNING:absl:Found untraced functions such as gru_cell_1_layer_call_fn, gru_cell_1_layer_call_and_return_conditional_losses while saving (showing 2 of 2). These functions will not be directly callable after loading.\n"
     ]
    },
    {
     "name": "stdout",
     "output_type": "stream",
     "text": [
      "INFO:tensorflow:Assets written to: model_weights\\assets\n"
     ]
    },
    {
     "name": "stderr",
     "output_type": "stream",
     "text": [
      "INFO:tensorflow:Assets written to: model_weights\\assets\n"
     ]
    },
    {
     "name": "stdout",
     "output_type": "stream",
     "text": [
      "248/248 [==============================] - 9s 37ms/step - loss: 0.0429 - lr: 4.8828e-07\n",
      "Epoch 59/80\n",
      "248/248 [==============================] - ETA: 0s - loss: 0.0429"
     ]
    },
    {
     "name": "stderr",
     "output_type": "stream",
     "text": [
      "WARNING:absl:Found untraced functions such as gru_cell_1_layer_call_fn, gru_cell_1_layer_call_and_return_conditional_losses while saving (showing 2 of 2). These functions will not be directly callable after loading.\n"
     ]
    },
    {
     "name": "stdout",
     "output_type": "stream",
     "text": [
      "INFO:tensorflow:Assets written to: model_weights\\assets\n"
     ]
    },
    {
     "name": "stderr",
     "output_type": "stream",
     "text": [
      "INFO:tensorflow:Assets written to: model_weights\\assets\n"
     ]
    },
    {
     "name": "stdout",
     "output_type": "stream",
     "text": [
      "248/248 [==============================] - 9s 36ms/step - loss: 0.0429 - lr: 2.4414e-07\n",
      "Epoch 60/80\n",
      "248/248 [==============================] - ETA: 0s - loss: 0.0429"
     ]
    },
    {
     "name": "stderr",
     "output_type": "stream",
     "text": [
      "WARNING:absl:Found untraced functions such as gru_cell_1_layer_call_fn, gru_cell_1_layer_call_and_return_conditional_losses while saving (showing 2 of 2). These functions will not be directly callable after loading.\n"
     ]
    },
    {
     "name": "stdout",
     "output_type": "stream",
     "text": [
      "INFO:tensorflow:Assets written to: model_weights\\assets\n"
     ]
    },
    {
     "name": "stderr",
     "output_type": "stream",
     "text": [
      "INFO:tensorflow:Assets written to: model_weights\\assets\n"
     ]
    },
    {
     "name": "stdout",
     "output_type": "stream",
     "text": [
      "248/248 [==============================] - 9s 36ms/step - loss: 0.0429 - lr: 2.4414e-07\n",
      "Epoch 61/80\n",
      "246/248 [============================>.] - ETA: 0s - loss: 0.0429\n",
      "Epoch 61: ReduceLROnPlateau reducing learning rate to 1.2207031829802872e-07.\n"
     ]
    },
    {
     "name": "stderr",
     "output_type": "stream",
     "text": [
      "WARNING:absl:Found untraced functions such as gru_cell_1_layer_call_fn, gru_cell_1_layer_call_and_return_conditional_losses while saving (showing 2 of 2). These functions will not be directly callable after loading.\n"
     ]
    },
    {
     "name": "stdout",
     "output_type": "stream",
     "text": [
      "INFO:tensorflow:Assets written to: model_weights\\assets\n"
     ]
    },
    {
     "name": "stderr",
     "output_type": "stream",
     "text": [
      "INFO:tensorflow:Assets written to: model_weights\\assets\n"
     ]
    },
    {
     "name": "stdout",
     "output_type": "stream",
     "text": [
      "248/248 [==============================] - 9s 35ms/step - loss: 0.0429 - lr: 2.4414e-07\n",
      "Epoch 62/80\n",
      "246/248 [============================>.] - ETA: 0s - loss: 0.0429"
     ]
    },
    {
     "name": "stderr",
     "output_type": "stream",
     "text": [
      "WARNING:absl:Found untraced functions such as gru_cell_1_layer_call_fn, gru_cell_1_layer_call_and_return_conditional_losses while saving (showing 2 of 2). These functions will not be directly callable after loading.\n"
     ]
    },
    {
     "name": "stdout",
     "output_type": "stream",
     "text": [
      "INFO:tensorflow:Assets written to: model_weights\\assets\n"
     ]
    },
    {
     "name": "stderr",
     "output_type": "stream",
     "text": [
      "INFO:tensorflow:Assets written to: model_weights\\assets\n"
     ]
    },
    {
     "name": "stdout",
     "output_type": "stream",
     "text": [
      "248/248 [==============================] - 9s 37ms/step - loss: 0.0430 - lr: 1.2207e-07\n",
      "Epoch 63/80\n",
      "248/248 [==============================] - ETA: 0s - loss: 0.0429"
     ]
    },
    {
     "name": "stderr",
     "output_type": "stream",
     "text": [
      "WARNING:absl:Found untraced functions such as gru_cell_1_layer_call_fn, gru_cell_1_layer_call_and_return_conditional_losses while saving (showing 2 of 2). These functions will not be directly callable after loading.\n"
     ]
    },
    {
     "name": "stdout",
     "output_type": "stream",
     "text": [
      "INFO:tensorflow:Assets written to: model_weights\\assets\n"
     ]
    },
    {
     "name": "stderr",
     "output_type": "stream",
     "text": [
      "INFO:tensorflow:Assets written to: model_weights\\assets\n"
     ]
    },
    {
     "name": "stdout",
     "output_type": "stream",
     "text": [
      "248/248 [==============================] - 9s 36ms/step - loss: 0.0429 - lr: 1.2207e-07\n",
      "Epoch 64/80\n",
      "247/248 [============================>.] - ETA: 0s - loss: 0.0430"
     ]
    },
    {
     "name": "stderr",
     "output_type": "stream",
     "text": [
      "WARNING:absl:Found untraced functions such as gru_cell_1_layer_call_fn, gru_cell_1_layer_call_and_return_conditional_losses while saving (showing 2 of 2). These functions will not be directly callable after loading.\n"
     ]
    },
    {
     "name": "stdout",
     "output_type": "stream",
     "text": [
      "INFO:tensorflow:Assets written to: model_weights\\assets\n"
     ]
    },
    {
     "name": "stderr",
     "output_type": "stream",
     "text": [
      "INFO:tensorflow:Assets written to: model_weights\\assets\n"
     ]
    },
    {
     "name": "stdout",
     "output_type": "stream",
     "text": [
      "248/248 [==============================] - 9s 36ms/step - loss: 0.0429 - lr: 1.2207e-07\n",
      "Epoch 65/80\n",
      "247/248 [============================>.] - ETA: 0s - loss: 0.0429"
     ]
    },
    {
     "name": "stderr",
     "output_type": "stream",
     "text": [
      "WARNING:absl:Found untraced functions such as gru_cell_1_layer_call_fn, gru_cell_1_layer_call_and_return_conditional_losses while saving (showing 2 of 2). These functions will not be directly callable after loading.\n"
     ]
    },
    {
     "name": "stdout",
     "output_type": "stream",
     "text": [
      "INFO:tensorflow:Assets written to: model_weights\\assets\n"
     ]
    },
    {
     "name": "stderr",
     "output_type": "stream",
     "text": [
      "INFO:tensorflow:Assets written to: model_weights\\assets\n"
     ]
    },
    {
     "name": "stdout",
     "output_type": "stream",
     "text": [
      "248/248 [==============================] - 9s 37ms/step - loss: 0.0429 - lr: 1.2207e-07\n",
      "Epoch 66/80\n",
      "248/248 [==============================] - ETA: 0s - loss: 0.0429"
     ]
    },
    {
     "name": "stderr",
     "output_type": "stream",
     "text": [
      "WARNING:absl:Found untraced functions such as gru_cell_1_layer_call_fn, gru_cell_1_layer_call_and_return_conditional_losses while saving (showing 2 of 2). These functions will not be directly callable after loading.\n"
     ]
    },
    {
     "name": "stdout",
     "output_type": "stream",
     "text": [
      "INFO:tensorflow:Assets written to: model_weights\\assets\n"
     ]
    },
    {
     "name": "stderr",
     "output_type": "stream",
     "text": [
      "INFO:tensorflow:Assets written to: model_weights\\assets\n"
     ]
    },
    {
     "name": "stdout",
     "output_type": "stream",
     "text": [
      "248/248 [==============================] - 9s 35ms/step - loss: 0.0429 - lr: 1.2207e-07\n",
      "Epoch 67/80\n",
      "248/248 [==============================] - ETA: 0s - loss: 0.0429\n",
      "Epoch 67: ReduceLROnPlateau reducing learning rate to 6.103515914901436e-08.\n"
     ]
    },
    {
     "name": "stderr",
     "output_type": "stream",
     "text": [
      "WARNING:absl:Found untraced functions such as gru_cell_1_layer_call_fn, gru_cell_1_layer_call_and_return_conditional_losses while saving (showing 2 of 2). These functions will not be directly callable after loading.\n"
     ]
    },
    {
     "name": "stdout",
     "output_type": "stream",
     "text": [
      "INFO:tensorflow:Assets written to: model_weights\\assets\n"
     ]
    },
    {
     "name": "stderr",
     "output_type": "stream",
     "text": [
      "INFO:tensorflow:Assets written to: model_weights\\assets\n"
     ]
    },
    {
     "name": "stdout",
     "output_type": "stream",
     "text": [
      "248/248 [==============================] - 9s 36ms/step - loss: 0.0429 - lr: 1.2207e-07\n",
      "Epoch 68/80\n",
      "247/248 [============================>.] - ETA: 0s - loss: 0.0429"
     ]
    },
    {
     "name": "stderr",
     "output_type": "stream",
     "text": [
      "WARNING:absl:Found untraced functions such as gru_cell_1_layer_call_fn, gru_cell_1_layer_call_and_return_conditional_losses while saving (showing 2 of 2). These functions will not be directly callable after loading.\n"
     ]
    },
    {
     "name": "stdout",
     "output_type": "stream",
     "text": [
      "INFO:tensorflow:Assets written to: model_weights\\assets\n"
     ]
    },
    {
     "name": "stderr",
     "output_type": "stream",
     "text": [
      "INFO:tensorflow:Assets written to: model_weights\\assets\n"
     ]
    },
    {
     "name": "stdout",
     "output_type": "stream",
     "text": [
      "248/248 [==============================] - 9s 35ms/step - loss: 0.0429 - lr: 6.1035e-08\n",
      "Epoch 69/80\n",
      "248/248 [==============================] - ETA: 0s - loss: 0.0429"
     ]
    },
    {
     "name": "stderr",
     "output_type": "stream",
     "text": [
      "WARNING:absl:Found untraced functions such as gru_cell_1_layer_call_fn, gru_cell_1_layer_call_and_return_conditional_losses while saving (showing 2 of 2). These functions will not be directly callable after loading.\n"
     ]
    },
    {
     "name": "stdout",
     "output_type": "stream",
     "text": [
      "INFO:tensorflow:Assets written to: model_weights\\assets\n"
     ]
    },
    {
     "name": "stderr",
     "output_type": "stream",
     "text": [
      "INFO:tensorflow:Assets written to: model_weights\\assets\n"
     ]
    },
    {
     "name": "stdout",
     "output_type": "stream",
     "text": [
      "248/248 [==============================] - 9s 37ms/step - loss: 0.0429 - lr: 6.1035e-08\n",
      "Epoch 70/80\n",
      "247/248 [============================>.] - ETA: 0s - loss: 0.0429\n",
      "Epoch 70: ReduceLROnPlateau reducing learning rate to 3.051757957450718e-08.\n"
     ]
    },
    {
     "name": "stderr",
     "output_type": "stream",
     "text": [
      "WARNING:absl:Found untraced functions such as gru_cell_1_layer_call_fn, gru_cell_1_layer_call_and_return_conditional_losses while saving (showing 2 of 2). These functions will not be directly callable after loading.\n"
     ]
    },
    {
     "name": "stdout",
     "output_type": "stream",
     "text": [
      "INFO:tensorflow:Assets written to: model_weights\\assets\n"
     ]
    },
    {
     "name": "stderr",
     "output_type": "stream",
     "text": [
      "INFO:tensorflow:Assets written to: model_weights\\assets\n"
     ]
    },
    {
     "name": "stdout",
     "output_type": "stream",
     "text": [
      "248/248 [==============================] - 9s 36ms/step - loss: 0.0429 - lr: 6.1035e-08\n",
      "Epoch 71/80\n",
      "246/248 [============================>.] - ETA: 0s - loss: 0.0429"
     ]
    },
    {
     "name": "stderr",
     "output_type": "stream",
     "text": [
      "WARNING:absl:Found untraced functions such as gru_cell_1_layer_call_fn, gru_cell_1_layer_call_and_return_conditional_losses while saving (showing 2 of 2). These functions will not be directly callable after loading.\n"
     ]
    },
    {
     "name": "stdout",
     "output_type": "stream",
     "text": [
      "INFO:tensorflow:Assets written to: model_weights\\assets\n"
     ]
    },
    {
     "name": "stderr",
     "output_type": "stream",
     "text": [
      "INFO:tensorflow:Assets written to: model_weights\\assets\n"
     ]
    },
    {
     "name": "stdout",
     "output_type": "stream",
     "text": [
      "248/248 [==============================] - 9s 36ms/step - loss: 0.0429 - lr: 3.0518e-08\n",
      "Epoch 72/80\n",
      "246/248 [============================>.] - ETA: 0s - loss: 0.0429"
     ]
    },
    {
     "name": "stderr",
     "output_type": "stream",
     "text": [
      "WARNING:absl:Found untraced functions such as gru_cell_1_layer_call_fn, gru_cell_1_layer_call_and_return_conditional_losses while saving (showing 2 of 2). These functions will not be directly callable after loading.\n"
     ]
    },
    {
     "name": "stdout",
     "output_type": "stream",
     "text": [
      "INFO:tensorflow:Assets written to: model_weights\\assets\n"
     ]
    },
    {
     "name": "stderr",
     "output_type": "stream",
     "text": [
      "INFO:tensorflow:Assets written to: model_weights\\assets\n"
     ]
    },
    {
     "name": "stdout",
     "output_type": "stream",
     "text": [
      "248/248 [==============================] - 9s 36ms/step - loss: 0.0429 - lr: 3.0518e-08\n",
      "Epoch 73/80\n",
      "247/248 [============================>.] - ETA: 0s - loss: 0.0429\n",
      "Epoch 73: ReduceLROnPlateau reducing learning rate to 1.525878978725359e-08.\n"
     ]
    },
    {
     "name": "stderr",
     "output_type": "stream",
     "text": [
      "WARNING:absl:Found untraced functions such as gru_cell_1_layer_call_fn, gru_cell_1_layer_call_and_return_conditional_losses while saving (showing 2 of 2). These functions will not be directly callable after loading.\n"
     ]
    },
    {
     "name": "stdout",
     "output_type": "stream",
     "text": [
      "INFO:tensorflow:Assets written to: model_weights\\assets\n"
     ]
    },
    {
     "name": "stderr",
     "output_type": "stream",
     "text": [
      "INFO:tensorflow:Assets written to: model_weights\\assets\n"
     ]
    },
    {
     "name": "stdout",
     "output_type": "stream",
     "text": [
      "248/248 [==============================] - 9s 35ms/step - loss: 0.0429 - lr: 3.0518e-08\n",
      "Epoch 74/80\n",
      "246/248 [============================>.] - ETA: 0s - loss: 0.0429"
     ]
    },
    {
     "name": "stderr",
     "output_type": "stream",
     "text": [
      "WARNING:absl:Found untraced functions such as gru_cell_1_layer_call_fn, gru_cell_1_layer_call_and_return_conditional_losses while saving (showing 2 of 2). These functions will not be directly callable after loading.\n"
     ]
    },
    {
     "name": "stdout",
     "output_type": "stream",
     "text": [
      "INFO:tensorflow:Assets written to: model_weights\\assets\n"
     ]
    },
    {
     "name": "stderr",
     "output_type": "stream",
     "text": [
      "INFO:tensorflow:Assets written to: model_weights\\assets\n"
     ]
    },
    {
     "name": "stdout",
     "output_type": "stream",
     "text": [
      "248/248 [==============================] - 9s 36ms/step - loss: 0.0429 - lr: 1.5259e-08\n",
      "Epoch 75/80\n",
      "248/248 [==============================] - ETA: 0s - loss: 0.0429"
     ]
    },
    {
     "name": "stderr",
     "output_type": "stream",
     "text": [
      "WARNING:absl:Found untraced functions such as gru_cell_1_layer_call_fn, gru_cell_1_layer_call_and_return_conditional_losses while saving (showing 2 of 2). These functions will not be directly callable after loading.\n"
     ]
    },
    {
     "name": "stdout",
     "output_type": "stream",
     "text": [
      "INFO:tensorflow:Assets written to: model_weights\\assets\n"
     ]
    },
    {
     "name": "stderr",
     "output_type": "stream",
     "text": [
      "INFO:tensorflow:Assets written to: model_weights\\assets\n"
     ]
    },
    {
     "name": "stdout",
     "output_type": "stream",
     "text": [
      "248/248 [==============================] - 9s 35ms/step - loss: 0.0429 - lr: 1.5259e-08\n",
      "Epoch 76/80\n",
      "246/248 [============================>.] - ETA: 0s - loss: 0.0429\n",
      "Epoch 76: ReduceLROnPlateau reducing learning rate to 7.629394893626795e-09.\n"
     ]
    },
    {
     "name": "stderr",
     "output_type": "stream",
     "text": [
      "WARNING:absl:Found untraced functions such as gru_cell_1_layer_call_fn, gru_cell_1_layer_call_and_return_conditional_losses while saving (showing 2 of 2). These functions will not be directly callable after loading.\n"
     ]
    },
    {
     "name": "stdout",
     "output_type": "stream",
     "text": [
      "INFO:tensorflow:Assets written to: model_weights\\assets\n"
     ]
    },
    {
     "name": "stderr",
     "output_type": "stream",
     "text": [
      "INFO:tensorflow:Assets written to: model_weights\\assets\n"
     ]
    },
    {
     "name": "stdout",
     "output_type": "stream",
     "text": [
      "248/248 [==============================] - 9s 36ms/step - loss: 0.0429 - lr: 1.5259e-08\n",
      "Epoch 77/80\n",
      "246/248 [============================>.] - ETA: 0s - loss: 0.0429"
     ]
    },
    {
     "name": "stderr",
     "output_type": "stream",
     "text": [
      "WARNING:absl:Found untraced functions such as gru_cell_1_layer_call_fn, gru_cell_1_layer_call_and_return_conditional_losses while saving (showing 2 of 2). These functions will not be directly callable after loading.\n"
     ]
    },
    {
     "name": "stdout",
     "output_type": "stream",
     "text": [
      "INFO:tensorflow:Assets written to: model_weights\\assets\n"
     ]
    },
    {
     "name": "stderr",
     "output_type": "stream",
     "text": [
      "INFO:tensorflow:Assets written to: model_weights\\assets\n"
     ]
    },
    {
     "name": "stdout",
     "output_type": "stream",
     "text": [
      "248/248 [==============================] - 9s 36ms/step - loss: 0.0429 - lr: 7.6294e-09\n",
      "Epoch 78/80\n",
      "248/248 [==============================] - ETA: 0s - loss: 0.0429"
     ]
    },
    {
     "name": "stderr",
     "output_type": "stream",
     "text": [
      "WARNING:absl:Found untraced functions such as gru_cell_1_layer_call_fn, gru_cell_1_layer_call_and_return_conditional_losses while saving (showing 2 of 2). These functions will not be directly callable after loading.\n"
     ]
    },
    {
     "name": "stdout",
     "output_type": "stream",
     "text": [
      "INFO:tensorflow:Assets written to: model_weights\\assets\n"
     ]
    },
    {
     "name": "stderr",
     "output_type": "stream",
     "text": [
      "INFO:tensorflow:Assets written to: model_weights\\assets\n"
     ]
    },
    {
     "name": "stdout",
     "output_type": "stream",
     "text": [
      "248/248 [==============================] - 9s 35ms/step - loss: 0.0429 - lr: 7.6294e-09\n",
      "Epoch 79/80\n",
      "248/248 [==============================] - ETA: 0s - loss: 0.0429\n",
      "Epoch 79: ReduceLROnPlateau reducing learning rate to 3.814697446813398e-09.\n"
     ]
    },
    {
     "name": "stderr",
     "output_type": "stream",
     "text": [
      "WARNING:absl:Found untraced functions such as gru_cell_1_layer_call_fn, gru_cell_1_layer_call_and_return_conditional_losses while saving (showing 2 of 2). These functions will not be directly callable after loading.\n"
     ]
    },
    {
     "name": "stdout",
     "output_type": "stream",
     "text": [
      "INFO:tensorflow:Assets written to: model_weights\\assets\n"
     ]
    },
    {
     "name": "stderr",
     "output_type": "stream",
     "text": [
      "INFO:tensorflow:Assets written to: model_weights\\assets\n"
     ]
    },
    {
     "name": "stdout",
     "output_type": "stream",
     "text": [
      "248/248 [==============================] - 9s 36ms/step - loss: 0.0429 - lr: 7.6294e-09\n"
     ]
    }
   ],
   "source": [
    "history = model.fit(dataset, epochs=80, callbacks=[early_stop, lrd, mcp])"
   ]
  },
  {
   "cell_type": "code",
   "execution_count": 86,
   "metadata": {},
   "outputs": [
    {
     "data": {
      "image/png": "[encoded data removed]",
      "text/plain": [
       "<Figure size 640x480 with 1 Axes>"
      ]
     },
     "metadata": {},
     "output_type": "display_data"
    }
   ],
   "source": [
    "import matplotlib.pyplot as plt\n",
    "\n",
    "# Plot the loss graph\n",
    "plt.plot(history.history['loss'])\n",
    "plt.title('Model Loss')\n",
    "plt.xlabel('Epochs')\n",
    "plt.ylabel('Loss')\n",
    "plt.show()"
   ]
  },
  {
   "attachments": {},
   "cell_type": "markdown",
   "metadata": {},
   "source": [
    "# prediction function"
   ]
  },
  {
   "cell_type": "code",
   "execution_count": 87,
   "metadata": {},
   "outputs": [],
   "source": [
    "class OneStep(tf.keras.Model):\n",
    "  def __init__(self, model, chars_from_ids, ids_from_chars, temperature=0.2):\n",
    "    super().__init__()\n",
    "    self.temperature = temperature\n",
    "    self.model = model\n",
    "    self.chars_from_ids = chars_from_ids\n",
    "    self.ids_from_chars = ids_from_chars\n",
    "\n",
    "    # Create a mask to prevent \"[UNK]\" from being generated.\n",
    "    skip_ids = self.ids_from_chars(['[UNK]'])[:, None]\n",
    "    sparse_mask = tf.SparseTensor(\n",
    "        # Put a -inf at each bad index.\n",
    "        values=[-float('inf')]*len(skip_ids),\n",
    "        indices=skip_ids,\n",
    "        # Match the shape to the vocabulary\n",
    "        dense_shape=[len(ids_from_chars.get_vocabulary())])\n",
    "    self.prediction_mask = tf.sparse.to_dense(sparse_mask)\n",
    "\n",
    "  @tf.function\n",
    "  def generate_one_step(self, inputs, states=None):\n",
    "    # Convert strings to token IDs.\n",
    "    input_chars = tf.strings.unicode_split(inputs, 'UTF-8')\n",
    "    input_ids = self.ids_from_chars(input_chars).to_tensor()\n",
    "\n",
    "    # Run the model.\n",
    "    predicted_logits, states = self.model(inputs=input_ids, states=states,return_state=True)\n",
    "    # Only use the last prediction.\n",
    "    predicted_logits = predicted_logits[:, -1, :]\n",
    "    predicted_logits = predicted_logits/self.temperature\n",
    "    # Apply the prediction mask: prevent \"[UNK]\" from being generated.\n",
    "    predicted_logits = predicted_logits + self.prediction_mask\n",
    "\n",
    "    # Sample the output logits to generate token IDs.\n",
    "    # print(\"PL\", dir(predicted_logits))\n",
    "    # print(\"PL2\", predicted_logits.op)\n",
    "    predicted_ids = tf.random.categorical(predicted_logits, num_samples=1)\n",
    "    # predicted_ids = predicted_logits[:, 2:3]\n",
    "    # print(\"PI\", predicted_ids.shape, predicted_ids)\n",
    "    predicted_ids = tf.squeeze(predicted_ids, axis=-1)\n",
    "\n",
    "    # predicted_ids = tf.squeeze(predicted_logits, axis=-1)\n",
    "\n",
    "    # Convert from token ids to characters\n",
    "    predicted_chars = self.chars_from_ids(predicted_ids)\n",
    "\n",
    "    # Return the characters and model state.\n",
    "    return predicted_chars, states"
   ]
  },
  {
   "cell_type": "code",
   "execution_count": 88,
   "metadata": {},
   "outputs": [],
   "source": [
    "one_step_model = OneStep(model, chars_from_ids, ids_from_chars)"
   ]
  },
  {
   "cell_type": "code",
   "execution_count": 98,
   "metadata": {},
   "outputs": [
    {
     "name": "stdout",
     "output_type": "stream",
     "text": [
      "Request for Annual Leave:\n",
      "\n",
      "Dear [Manager's Name], \n",
      "I would like to request [number of days/weeks] of annual leave in advance starting from [start date] to [end date]. I understand that this request may have an impact on the team's workflow, and I will ensure that all of my work is handed over to a colleague. \n",
      "Thank you for your consideration.\n",
      "\n",
      "Sincerely,\n",
      " Your Name]\n",
      "\n",
      "________________________________________________________________________________\n"
     ]
    }
   ],
   "source": [
    "states = None\n",
    "subject_line = '''Request for Annual Leave:'''\n",
    "\n",
    "# subject_line = subject_line.replace(\":\", \"\")\n",
    "# subject_line = subject_line.replace(\".\", \"\")\n",
    "# subject_line = subject_line.lower()\n",
    "\n",
    "next_char = tf.constant([subject_line])\n",
    "result = [next_char]\n",
    "\n",
    "for n in range(800):\n",
    "  # print(next_char)\n",
    "  next_char, states = one_step_model.generate_one_step(next_char, states=states)\n",
    "  result.append(next_char)\n",
    "\n",
    "result = tf.strings.join(result)\n",
    "end = time.time()\n",
    "\n",
    "\n",
    "try:\n",
    "    op = result[0].numpy().decode('utf-8')\n",
    "    res = op[:op.index(\"\\n\\r\\n\\r\\n\")]\n",
    "    print(res, '\\n\\n' + '_'*80)\n",
    "except:\n",
    "   print(result[0].numpy().decode('utf-8'), '\\n\\n' + '_'*80)\n"
   ]
  },
  {
   "attachments": {},
   "cell_type": "markdown",
   "metadata": {},
   "source": [
    "# Saving & Loading the model"
   ]
  },
  {
   "cell_type": "code",
   "execution_count": 90,
   "metadata": {},
   "outputs": [
    {
     "name": "stdout",
     "output_type": "stream",
     "text": [
      "WARNING:tensorflow:Skipping full serialization of Keras layer <__main__.OneStep object at 0x000001BE56D6ADC0>, because it is not built.\n"
     ]
    },
    {
     "name": "stderr",
     "output_type": "stream",
     "text": [
      "WARNING:tensorflow:Skipping full serialization of Keras layer <__main__.OneStep object at 0x000001BE56D6ADC0>, because it is not built.\n",
      "WARNING:absl:Found untraced functions such as gru_cell_1_layer_call_fn, gru_cell_1_layer_call_and_return_conditional_losses while saving (showing 2 of 2). These functions will not be directly callable after loading.\n"
     ]
    },
    {
     "name": "stdout",
     "output_type": "stream",
     "text": [
      "INFO:tensorflow:Assets written to: GRU_MODEL\\assets\n"
     ]
    },
    {
     "name": "stderr",
     "output_type": "stream",
     "text": [
      "INFO:tensorflow:Assets written to: GRU_MODEL\\assets\n"
     ]
    }
   ],
   "source": [
    "tf.saved_model.save(one_step_model, 'GRU_MODEL')"
   ]
  },
  {
   "cell_type": "code",
   "execution_count": 91,
   "metadata": {},
   "outputs": [],
   "source": [
    "one_step_reloaded = tf.saved_model.load('GRU_MODEL')"
   ]
  },
  {
   "attachments": {},
   "cell_type": "markdown",
   "metadata": {},
   "source": [
    "# Running prediction model in loop to generate the text"
   ]
  },
  {
   "cell_type": "code",
   "execution_count": 92,
   "metadata": {},
   "outputs": [
    {
     "name": "stdout",
     "output_type": "stream",
     "text": [
      "Request for Maternity Leave:\n",
      "\n",
      "Dear [Manager's Name],\n",
      "\n",
      "I am writing to inform you that I will be taking maternity leave starting from [Start Date] until [End Date]. As per the company policy, I am entitled to [Duration of Leave] weeks of maternity leave.\n",
      "\n",
      "I have completed all my pending work and have handed over my responsibilities to [Name of Colleague/Team Member]. I have also shared my contact details with them in case of any emergency.\n",
      "\n",
      "During my absence, I can be reached via [Email/Phone Number] if there is any work-related emergency that requires my attention. Otherwise, I will be out of office.\n",
      "\n",
      "Thank you for your understanding and support during this time. I look forward to returning to work and continuing to contribute to the success of the company.\n",
      "\n",
      "Sincerely,\n",
      "[Your Name]\n"
     ]
    }
   ],
   "source": [
    "states = None\n",
    "subject_line = 'Request for Maternity Leave'\n",
    "# subject_line = subject_line.replace(\":\", \"\")\n",
    "subject_line = subject_line.replace(\".\", \"\")\n",
    "# subject_line = subject_line.lower()\n",
    "\n",
    "next_char = tf.constant([subject_line])\n",
    "result = [next_char]\n",
    "\n",
    "\n",
    "for n in range(1000):\n",
    "    next_char, states = one_step_reloaded.generate_one_step(next_char, states=states)\n",
    "    # print(states)\n",
    "    result.append(next_char)\n",
    "\n",
    "op = tf.strings.join(result)[0].numpy().decode(\"utf-8\")\n",
    "\n",
    "try:\n",
    "    print(op[:op.index(\"\\n\\r\\n\\r\\n\")])\n",
    "except:\n",
    "   print(op,\"\\n except block\")"
   ]
  },
  {
   "cell_type": "code",
   "execution_count": 105,
   "metadata": {},
   "outputs": [
    {
     "name": "stdout",
     "output_type": "stream",
     "text": [
      "Request for Leave due to Family Emergency:\n",
      "\n",
      "Dear [Manager's Name],\n",
      "\n",
      "I am writing to request [number of days] of leave starting from [start date] due to a family emergency. Unfortunately, [name of family member] has been hospitalized and requires my immediate attention. I have attached a doctor's note for your records.\n",
      "\n",
      "During my absence, I will ensure that my work is up to date and all outstanding tasks are delegated. I will also be available via email or phone if there are any urgent matters that require my attention.\n",
      "\n",
      "Thank you for your understanding during this difficult time. Please let me know if you require any further information.\n",
      "\n",
      "Sincerely,\n",
      "[Your Name]\n"
     ]
    }
   ],
   "source": [
    "states = None\n",
    "subject_line = 'Request for Leave due to Family Emergency'\n",
    "# subject_line = subject_line.replace(\":\", \"\")\n",
    "subject_line = subject_line.replace(\".\", \"\")\n",
    "# subject_line = subject_line.lower()\n",
    "\n",
    "next_char = tf.constant([subject_line])\n",
    "result = [next_char]\n",
    "\n",
    "\n",
    "for n in range(1000):\n",
    "    next_char, states = one_step_reloaded.generate_one_step(next_char, states=states)\n",
    "    # print(states)\n",
    "    result.append(next_char)\n",
    "\n",
    "op = tf.strings.join(result)[0].numpy().decode(\"utf-8\")\n",
    "\n",
    "try:\n",
    "    print(op[:op.index(\"\\n\\r\\n\\r\\n\")])\n",
    "except:\n",
    "   print(op,\"\\n except block\")"
   ]
  },
  {
   "cell_type": "code",
   "execution_count": 107,
   "metadata": {},
   "outputs": [
    {
     "name": "stdout",
     "output_type": "stream",
     "text": [
      "Request for House Moving Leave:\n",
      "\n",
      "Dear [Manager's Name],\n",
      "\n",
      "I am writing to request a house moving leave from [start date] to [end date]. Due to unforeseen circumstances, I have to move to a new house, and I need some time to make the necessary arrangements and settle in. I have completed all my pending work and made sure that my team has everything they need to carry on in my absence.\n",
      "\n",
      "I have also discussed my leave with [colleague's name] and have ensured that all important tasks and projects will be covered while I am away. I will be available via email or phone in case of any urgent matters that require my attention.\n",
      "\n",
      "Thank you for your understanding and support during my absence. I look forward to reconnecting with everyone and contributing to the team.\n",
      "\n",
      "Best regards,\n",
      "[Your Name]\n"
     ]
    }
   ],
   "source": [
    "states = None\n",
    "subject_line = 'Request for House Moving Leave'\n",
    "# subject_line = subject_line.replace(\":\", \"\")\n",
    "subject_line = subject_line.replace(\".\", \"\")\n",
    "# subject_line = subject_line.lower()\n",
    "\n",
    "next_char = tf.constant([subject_line])\n",
    "result = [next_char]\n",
    "\n",
    "\n",
    "for n in range(1000):\n",
    "    next_char, states = one_step_reloaded.generate_one_step(next_char, states=states)\n",
    "    # print(states)\n",
    "    result.append(next_char)\n",
    "\n",
    "op = tf.strings.join(result)[0].numpy().decode(\"utf-8\")\n",
    "\n",
    "try:\n",
    "    print(op[:op.index(\"\\n\\r\\n\\r\\n\")])\n",
    "except:\n",
    "   print(op,\"\\n except block\")"
   ]
  },
  {
   "cell_type": "code",
   "execution_count": 108,
   "metadata": {},
   "outputs": [
    {
     "name": "stdout",
     "output_type": "stream",
     "text": [
      "Request for Leave Extension:\n",
      "\n",
      "Dear [Manager's Name],\n",
      "I am writing to request an extension of my leave period due to [reasons, e.g. illness, personal issues, etc.]. I would like to extend my leave by [number of days/weeks] starting from [start date]. \n",
      "Thank you for your understanding.\n",
      "\n",
      "Sincerely,\n",
      "[Your Name]\n"
     ]
    }
   ],
   "source": [
    "states = None\n",
    "subject_line = 'Request for Leave Extension:'\n",
    "# subject_line = subject_line.replace(\":\", \"\")\n",
    "subject_line = subject_line.replace(\".\", \"\")\n",
    "# subject_line = subject_line.lower()\n",
    "\n",
    "next_char = tf.constant([subject_line])\n",
    "result = [next_char]\n",
    "\n",
    "\n",
    "for n in range(1000):\n",
    "    next_char, states = one_step_reloaded.generate_one_step(next_char, states=states)\n",
    "    # print(states)\n",
    "    result.append(next_char)\n",
    "\n",
    "op = tf.strings.join(result)[0].numpy().decode(\"utf-8\")\n",
    "\n",
    "try:\n",
    "    print(op[:op.index(\"\\n\\r\\n\\r\\n\")])\n",
    "except:\n",
    "   print(op,\"\\n except block\")"
   ]
  },
  {
   "cell_type": "code",
   "execution_count": 109,
   "metadata": {},
   "outputs": [
    {
     "name": "stdout",
     "output_type": "stream",
     "text": [
      "Return from Remote Work Notification:\n",
      "\n",
      "Dear [Manager/Team],\n",
      "\n",
      "I wanted to inform you that I have returned from working remotely and am now back in the office. Although I enjoyed the flexibility of remote work, I am excited to be back in the office and collaborating with my colleagues in person.\n",
      "\n",
      "Please let me know if there are any updates or changes that I should be aware of, or if there are any tasks or projects that require my attention.\n",
      "\n",
      "Thank you for your support during my time working remotely. I am looking forward to catching up with everyone and getting back to work.\n",
      "\n",
      "Best regards,\n",
      "[Your Name]\n"
     ]
    }
   ],
   "source": [
    "states = None\n",
    "subject_line = 'Return from Remote Work Notification:'\n",
    "# subject_line = subject_line.replace(\":\", \"\")\n",
    "subject_line = subject_line.replace(\".\", \"\")\n",
    "# subject_line = subject_line.lower()\n",
    "\n",
    "next_char = tf.constant([subject_line])\n",
    "result = [next_char]\n",
    "\n",
    "\n",
    "for n in range(1000):\n",
    "    next_char, states = one_step_reloaded.generate_one_step(next_char, states=states)\n",
    "    # print(states)\n",
    "    result.append(next_char)\n",
    "\n",
    "op = tf.strings.join(result)[0].numpy().decode(\"utf-8\")\n",
    "\n",
    "try:\n",
    "    print(op[:op.index(\"\\n\\r\\n\\r\\n\")])\n",
    "except:\n",
    "   print(op,\"\\n except block\")"
   ]
  },
  {
   "cell_type": "code",
   "execution_count": 110,
   "metadata": {},
   "outputs": [
    {
     "name": "stdout",
     "output_type": "stream",
     "text": [
      "Return from Flexible Work Notification:\n",
      "\n",
      "Dear [Manager/Team],\n",
      "\n",
      "I am writing to let you know that I have returned to the office after taking advantage of our company's flexible work arrangement. I appreciate the opportunity to work outside the office and have found the experience to be beneficial in terms of my productivity and work-life balance.\n",
      "\n",
      "Please let me know if there are any updates or changes that I should be aware of, or if there are any outstanding tasks that require my attention.\n",
      "\n",
      "Thank you for your understanding and support during my time working remotely. I look forward to reconnecting with everyone and contributing to the team.\n",
      "\n",
      "Best regards,\n",
      "[Your Name]\n"
     ]
    }
   ],
   "source": [
    "states = None\n",
    "subject_line = 'Return from Flexible Work Notification:'\n",
    "# subject_line = subject_line.replace(\":\", \"\")\n",
    "subject_line = subject_line.replace(\".\", \"\")\n",
    "# subject_line = subject_line.lower()\n",
    "\n",
    "next_char = tf.constant([subject_line])\n",
    "result = [next_char]\n",
    "\n",
    "\n",
    "for n in range(1000):\n",
    "    next_char, states = one_step_reloaded.generate_one_step(next_char, states=states)\n",
    "    # print(states)\n",
    "    result.append(next_char)\n",
    "\n",
    "op = tf.strings.join(result)[0].numpy().decode(\"utf-8\")\n",
    "\n",
    "try:\n",
    "    print(op[:op.index(\"\\n\\r\\n\\r\\n\")])\n",
    "except:\n",
    "   print(op,\"\\n except block\")"
   ]
  }
 ],
 "metadata": {
  "kernelspec": {
   "display_name": "Python 3",
   "language": "python",
   "name": "python3"
  },
  "language_info": {
   "codemirror_mode": {
    "name": "ipython",
    "version": 3
   },
   "file_extension": ".py",
   "mimetype": "text/x-python",
   "name": "python",
   "nbconvert_exporter": "python",
   "pygments_lexer": "ipython3",
   "version": "3.9.12"
  },
  "orig_nbformat": 4,
  "vscode": {
   "interpreter": {
    "hash": "397704579725e15f5c7cb49fe5f0341eb7531c82d19f2c29d197e8b64ab5776b"
   }
  }
 },
 "nbformat": 4,
 "nbformat_minor": 2
}
